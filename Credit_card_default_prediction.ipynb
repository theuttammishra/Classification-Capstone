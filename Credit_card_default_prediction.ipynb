{
  "nbformat": 4,
  "nbformat_minor": 0,
  "metadata": {
    "colab": {
      "provenance": [],
      "collapsed_sections": [
        "vncDsAP0Gaoa",
        "FJNUwmbgGyua",
        "w6K7xa23Elo4",
        "yQaldy8SH6Dl",
        "mDgbUHAGgjLW",
        "O_i_v8NEhb9l",
        "HhfV-JJviCcP",
        "Y3lxredqlCYt",
        "3RnN4peoiCZX",
        "x71ZqKXriCWQ",
        "7hBIi_osiCS2",
        "JlHwYmJAmNHm",
        "35m5QtbWiB9F",
        "PoPl-ycgm1ru",
        "H0kj-8xxnORC",
        "nA9Y7ga8ng1Z",
        "PBTbrJXOngz2",
        "u3PMJOP6ngxN",
        "dauF4eBmngu3",
        "bKJF3rekwFvQ",
        "MSa1f5Uengrz",
        "GF8Ens_Soomf",
        "0wOQAZs5pc--",
        "K5QZ13OEpz2H",
        "lQ7QKXXCp7Bj",
        "448CDAPjqfQr",
        "KSlN3yHqYklG",
        "t6dVpIINYklI",
        "ijmpgYnKYklI",
        "-JiQyfWJYklI",
        "EM7whBJCYoAo",
        "fge-S5ZAYoAp",
        "85gYPyotYoAp",
        "RoGjAbkUYoAp",
        "4Of9eVA-YrdM",
        "iky9q4vBYrdO",
        "F6T5p64dYrdO",
        "y-Ehk30pYrdP",
        "bamQiAODYuh1",
        "QHF8YVU7Yuh3",
        "GwzvFGzlYuh3",
        "qYpmQ266Yuh3",
        "OH-pJp9IphqM",
        "bbFf2-_FphqN",
        "_ouA3fa0phqN",
        "Seke61FWphqN",
        "PIIx-8_IphqN",
        "t27r6nlMphqO",
        "r2jJGEOYphqO",
        "b0JNsNcRphqO",
        "BZR9WyysphqO",
        "jj7wYXLtphqO",
        "eZrbJ2SmphqO",
        "rFu4xreNphqO",
        "YJ55k-q6phqO",
        "gCFgpxoyphqP",
        "OVtJsKN_phqQ",
        "lssrdh5qphqQ",
        "U2RJ9gkRphqQ",
        "1M8mcRywphqQ",
        "tgIPom80phqQ",
        "JMzcOPDDphqR",
        "x-EpHcCOp1ci",
        "X_VqEhTip1ck",
        "8zGJKyg5p1ck",
        "PVzmfK_Ep1ck",
        "n3dbpmDWp1ck",
        "ylSl6qgtp1ck",
        "ZWILFDl5p1ck",
        "M7G43BXep1ck",
        "Ag9LCva-p1cl",
        "E6MkPsBcp1cl",
        "2cELzS2fp1cl",
        "3MPXvC8up1cl",
        "NC_X3p0fY2L0",
        "UV0SzAkaZNRQ",
        "YPEH6qLeZNRQ",
        "q29F0dvdveiT",
        "EXh0U9oCveiU",
        "22aHeOlLveiV",
        "g-ATYxFrGrvw",
        "Yfr_Vlr8HBkt",
        "8yEUt7NnHlrM",
        "tEA2Xm5dHt1r",
        "I79__PHVH19G",
        "Ou-I18pAyIpj",
        "fF3858GYyt-u",
        "4_0_7-oCpUZd",
        "hwyV_J3ipUZe",
        "3yB-zSqbpUZe",
        "dEUvejAfpUZe",
        "Fd15vwWVpUZf",
        "bn_IUdTipZyH",
        "49K5P_iCpZyH",
        "Nff-vKELpZyI",
        "kLW572S8pZyI",
        "dWbDXHzopZyI",
        "yLjJCtPM0KBk",
        "xiyOF9F70UgQ",
        "7wuGOrhz0itI",
        "id1riN9m0vUs",
        "578E2V7j08f6",
        "89xtkJwZ18nB",
        "67NQN5KX2AMe",
        "Iwf50b-R2tYG",
        "GMQiZwjn3iu7",
        "WVIkgGqN3qsr",
        "XkPnILGE3zoT",
        "Hlsf0x5436Go",
        "mT9DMSJo4nBL",
        "c49ITxTc407N",
        "OeJFEK0N496M",
        "9ExmJH0g5HBk",
        "cJNqERVU536h",
        "k5UmGsbsOxih",
        "T0VqWOYE6DLQ",
        "qBMux9mC6MCf",
        "-oLEiFgy-5Pf",
        "C74aWNz2AliB",
        "2DejudWSA-a0",
        "pEMng2IbBLp7",
        "rAdphbQ9Bhjc",
        "TNVZ9zx19K6k",
        "nqoHp30x9hH9",
        "rMDnDkt2B6du",
        "yiiVWRdJDDil",
        "1UUpS68QDMuG",
        "kexQrXU-DjzY",
        "T5CmagL3EC8N",
        "BhH2vgX9EjGr",
        "qjKvONjwE8ra",
        "P1XJ9OREExlT",
        "VFOzZv6IFROw",
        "TIqpNgepFxVj",
        "VfCC591jGiD4",
        "OB4l2ZhMeS1U",
        "ArJBuiUVfxKd",
        "4qY1EAkEfxKe",
        "PiV4Ypx8fxKe",
        "TfvqoZmBfxKf",
        "dJ2tPlVmpsJ0",
        "JWYfwnehpsJ1",
        "-jK_YjpMpsJ2",
        "HAih1iBOpsJ2",
        "zVGeBEFhpsJ2",
        "bmKjuQ-FpsJ3",
        "Fze-IPXLpx6K",
        "7AN1z2sKpx6M",
        "9PIHJqyupx6M",
        "_-qAgymDpx6N",
        "Z-hykwinpx6N",
        "h_CCil-SKHpo",
        "cBFFvTBNJzUa",
        "HvGl1hHyA_VK",
        "EyNgTHvd2WFk",
        "KH5McJBi2d8v",
        "iW_Lq9qf2h6X",
        "-Kee-DAl2viO",
        "gCX9965dhzqZ",
        "gIfDvo9L0UH2"
      ],
      "include_colab_link": true
    },
    "kernelspec": {
      "name": "python3",
      "display_name": "Python 3"
    },
    "language_info": {
      "name": "python"
    },
    "gpuClass": "standard"
  },
  "cells": [
    {
      "cell_type": "markdown",
      "metadata": {
        "id": "view-in-github",
        "colab_type": "text"
      },
      "source": [
        "<a href=\"https://colab.research.google.com/github/theuttammishra/Classification-Capstone/blob/main/Credit_card_default_prediction.ipynb\" target=\"_parent\"><img src=\"https://colab.research.google.com/assets/colab-badge.svg\" alt=\"Open In Colab\"/></a>"
      ]
    },
    {
      "cell_type": "markdown",
      "source": [
        "# **Project Name**    - Credit Card Default Prediction\n",
        "\n"
      ],
      "metadata": {
        "id": "vncDsAP0Gaoa"
      }
    },
    {
      "cell_type": "markdown",
      "source": [
        "##### **Project Type**    - Classification\n",
        "##### **Contribution**    - Team\n",
        "##### **Team Member 1 -** Uttam Mishra\n",
        "##### **Team Member 2 -** Kshitij Singh\n"
      ],
      "metadata": {
        "id": "beRrZCGUAJYm"
      }
    },
    {
      "cell_type": "markdown",
      "source": [
        "# **Project Summary -**"
      ],
      "metadata": {
        "id": "FJNUwmbgGyua"
      }
    },
    {
      "cell_type": "markdown",
      "source": [
        "Write the summary here within 500-600 words."
      ],
      "metadata": {
        "id": "F6v_1wHtG2nS"
      }
    },
    {
      "cell_type": "markdown",
      "source": [
        "# **GitHub Link -**"
      ],
      "metadata": {
        "id": "w6K7xa23Elo4"
      }
    },
    {
      "cell_type": "markdown",
      "source": [
        "https://github.com/theuttammishra/Classification-Capstone"
      ],
      "metadata": {
        "id": "h1o69JH3Eqqn"
      }
    },
    {
      "cell_type": "markdown",
      "source": [
        "# **Problem Statement**\n"
      ],
      "metadata": {
        "id": "yQaldy8SH6Dl"
      }
    },
    {
      "cell_type": "markdown",
      "source": [
        "This project is aimed at predicting the case of customers default payments in Taiwan. From the perspective of risk management, the result of predictive accuracy of the estimated probability of default will be more valuable than the binary result of classification - credible or not credible clients.We can use the K-S chart to evaluate which customers will default on their credit card payments"
      ],
      "metadata": {
        "id": "DpeJGUA3kjGy"
      }
    },
    {
      "cell_type": "markdown",
      "source": [
        "# **General Guidelines** : -  "
      ],
      "metadata": {
        "id": "mDgbUHAGgjLW"
      }
    },
    {
      "cell_type": "markdown",
      "source": [
        "1.   Well-structured, formatted, and commented code is required. \n",
        "2.   Exception Handling, Production Grade Code & Deployment Ready Code will be a plus. Those students will be awarded some additional credits. \n",
        "     \n",
        "     The additional credits will have advantages over other students during Star Student selection.\n",
        "       \n",
        "             [ Note: - Deployment Ready Code is defined as, the whole .ipynb notebook should be executable in one go\n",
        "                       without a single error logged. ]\n",
        "\n",
        "3.   Each and every logic should have proper comments.\n",
        "4. You may add as many number of charts you want. Make Sure for each and every chart the following format should be answered.\n",
        "        \n",
        "\n",
        "```\n",
        "# Chart visualization code\n",
        "```\n",
        "            \n",
        "\n",
        "*   Why did you pick the specific chart?\n",
        "*   What is/are the insight(s) found from the chart?\n",
        "* Will the gained insights help creating a positive business impact? \n",
        "Are there any insights that lead to negative growth? Justify with specific reason.\n",
        "\n",
        "5. You have to create at least 15 logical & meaningful charts having important insights.\n",
        "\n",
        "\n",
        "[ Hints : - Do the Vizualization in  a structured way while following \"UBM\" Rule. \n",
        "\n",
        "U - Univariate Analysis,\n",
        "\n",
        "B - Bivariate Analysis (Numerical - Categorical, Numerical - Numerical, Categorical - Categorical)\n",
        "\n",
        "M - Multivariate Analysis\n",
        " ]\n",
        "\n",
        "\n",
        "\n",
        "\n",
        "\n",
        "6. You may add more ml algorithms for model creation. Make sure for each and every algorithm, the following format should be answered.\n",
        "\n",
        "\n",
        "*   Explain the ML Model used and it's performance using Evaluation metric Score Chart.\n",
        "\n",
        "\n",
        "*   Cross- Validation & Hyperparameter Tuning\n",
        "\n",
        "*   Have you seen any improvement? Note down the improvement with updates Evaluation metric Score Chart.\n",
        "\n",
        "*   Explain each evaluation metric's indication towards business and the business impact pf the ML model used.\n",
        "\n",
        "\n",
        "\n",
        "\n",
        "\n",
        "\n",
        "\n",
        "\n",
        "\n",
        "\n",
        "\n",
        "\n",
        "\n",
        "\n",
        "\n",
        "\n",
        "\n",
        "\n"
      ],
      "metadata": {
        "id": "ZrxVaUj-hHfC"
      }
    },
    {
      "cell_type": "markdown",
      "source": [
        "# ***Let's Begin !***"
      ],
      "metadata": {
        "id": "O_i_v8NEhb9l"
      }
    },
    {
      "cell_type": "markdown",
      "source": [
        "## ***1. Know Your Data***"
      ],
      "metadata": {
        "id": "HhfV-JJviCcP"
      }
    },
    {
      "cell_type": "markdown",
      "source": [
        "### Import Libraries"
      ],
      "metadata": {
        "id": "Y3lxredqlCYt"
      }
    },
    {
      "cell_type": "code",
      "source": [
        "# Import Libraries\n",
        "import pandas as pd\n",
        "import numpy as np\n",
        "import matplotlib.pyplot as plt\n",
        "import seaborn as sns\n",
        "from termcolor import colored\n",
        "import warnings\n",
        "warnings.filterwarnings('ignore')\n",
        "\n",
        "from sklearn.preprocessing import OneHotEncoder\n",
        "from sklearn.model_selection import train_test_split, cross_val_score\n",
        "from sklearn.preprocessing import MinMaxScaler, RobustScaler, StandardScaler \n",
        "from imblearn.over_sampling import SMOTE\n",
        "from collections import Counter\n",
        "from sklearn.metrics import accuracy_score, recall_score, precision_score, f1_score,roc_auc_score\n",
        "from collections import OrderedDict\n",
        "\n",
        "from sklearn.model_selection import RandomizedSearchCV,GridSearchCV\n",
        "from sklearn.ensemble import RandomForestClassifier\n",
        "from xgboost import XGBClassifier\n",
        "from sklearn.metrics import confusion_matrix"
      ],
      "metadata": {
        "id": "M8Vqi-pPk-HR"
      },
      "execution_count": null,
      "outputs": []
    },
    {
      "cell_type": "markdown",
      "source": [
        "### Dataset Loading"
      ],
      "metadata": {
        "id": "3RnN4peoiCZX"
      }
    },
    {
      "cell_type": "code",
      "source": [
        "# Load Dataset\n",
        "# Mounting with google drive\n",
        "from google.colab import drive\n",
        "drive.mount('/content/drive')"
      ],
      "metadata": {
        "id": "4CkvbW_SlZ_R",
        "colab": {
          "base_uri": "https://localhost:8080/"
        },
        "outputId": "35e33e26-3e1e-41c3-a72d-a1fb2f710a31"
      },
      "execution_count": null,
      "outputs": [
        {
          "output_type": "stream",
          "name": "stdout",
          "text": [
            "Drive already mounted at /content/drive; to attempt to forcibly remount, call drive.mount(\"/content/drive\", force_remount=True).\n"
          ]
        }
      ]
    },
    {
      "cell_type": "code",
      "source": [
        "# loading the dataset\n",
        "df = pd.read_excel(\"/content/drive/MyDrive/Classification Capstone/default of credit card clients.xls\")"
      ],
      "metadata": {
        "id": "rtobgFPxxTjv"
      },
      "execution_count": null,
      "outputs": []
    },
    {
      "cell_type": "markdown",
      "source": [
        "### Dataset First View"
      ],
      "metadata": {
        "id": "x71ZqKXriCWQ"
      }
    },
    {
      "cell_type": "code",
      "source": [
        "# Dataset First Look\n",
        "df.head()"
      ],
      "metadata": {
        "id": "LWNFOSvLl09H",
        "colab": {
          "base_uri": "https://localhost:8080/"
        },
        "outputId": "75cfaeec-24b1-4c1b-e8bb-f950e7f869f7"
      },
      "execution_count": null,
      "outputs": [
        {
          "output_type": "execute_result",
          "data": {
            "text/plain": [
              "  Unnamed: 0         X1   X2         X3        X4   X5     X6     X7     X8  \\\n",
              "0         ID  LIMIT_BAL  SEX  EDUCATION  MARRIAGE  AGE  PAY_0  PAY_2  PAY_3   \n",
              "1          1      20000    2          2         1   24      2      2     -1   \n",
              "2          2     120000    2          2         2   26     -1      2      0   \n",
              "3          3      90000    2          2         2   34      0      0      0   \n",
              "4          4      50000    2          2         1   37      0      0      0   \n",
              "\n",
              "      X9  ...        X15        X16        X17       X18       X19       X20  \\\n",
              "0  PAY_4  ...  BILL_AMT4  BILL_AMT5  BILL_AMT6  PAY_AMT1  PAY_AMT2  PAY_AMT3   \n",
              "1     -1  ...          0          0          0         0       689         0   \n",
              "2      0  ...       3272       3455       3261         0      1000      1000   \n",
              "3      0  ...      14331      14948      15549      1518      1500      1000   \n",
              "4      0  ...      28314      28959      29547      2000      2019      1200   \n",
              "\n",
              "        X21       X22       X23                           Y  \n",
              "0  PAY_AMT4  PAY_AMT5  PAY_AMT6  default payment next month  \n",
              "1         0         0         0                           1  \n",
              "2      1000         0      2000                           1  \n",
              "3      1000      1000      5000                           0  \n",
              "4      1100      1069      1000                           0  \n",
              "\n",
              "[5 rows x 25 columns]"
            ],
            "text/html": [
              "\n",
              "  <div id=\"df-74060680-a9ef-4fff-8571-055e3bd65254\">\n",
              "    <div class=\"colab-df-container\">\n",
              "      <div>\n",
              "<style scoped>\n",
              "    .dataframe tbody tr th:only-of-type {\n",
              "        vertical-align: middle;\n",
              "    }\n",
              "\n",
              "    .dataframe tbody tr th {\n",
              "        vertical-align: top;\n",
              "    }\n",
              "\n",
              "    .dataframe thead th {\n",
              "        text-align: right;\n",
              "    }\n",
              "</style>\n",
              "<table border=\"1\" class=\"dataframe\">\n",
              "  <thead>\n",
              "    <tr style=\"text-align: right;\">\n",
              "      <th></th>\n",
              "      <th>Unnamed: 0</th>\n",
              "      <th>X1</th>\n",
              "      <th>X2</th>\n",
              "      <th>X3</th>\n",
              "      <th>X4</th>\n",
              "      <th>X5</th>\n",
              "      <th>X6</th>\n",
              "      <th>X7</th>\n",
              "      <th>X8</th>\n",
              "      <th>X9</th>\n",
              "      <th>...</th>\n",
              "      <th>X15</th>\n",
              "      <th>X16</th>\n",
              "      <th>X17</th>\n",
              "      <th>X18</th>\n",
              "      <th>X19</th>\n",
              "      <th>X20</th>\n",
              "      <th>X21</th>\n",
              "      <th>X22</th>\n",
              "      <th>X23</th>\n",
              "      <th>Y</th>\n",
              "    </tr>\n",
              "  </thead>\n",
              "  <tbody>\n",
              "    <tr>\n",
              "      <th>0</th>\n",
              "      <td>ID</td>\n",
              "      <td>LIMIT_BAL</td>\n",
              "      <td>SEX</td>\n",
              "      <td>EDUCATION</td>\n",
              "      <td>MARRIAGE</td>\n",
              "      <td>AGE</td>\n",
              "      <td>PAY_0</td>\n",
              "      <td>PAY_2</td>\n",
              "      <td>PAY_3</td>\n",
              "      <td>PAY_4</td>\n",
              "      <td>...</td>\n",
              "      <td>BILL_AMT4</td>\n",
              "      <td>BILL_AMT5</td>\n",
              "      <td>BILL_AMT6</td>\n",
              "      <td>PAY_AMT1</td>\n",
              "      <td>PAY_AMT2</td>\n",
              "      <td>PAY_AMT3</td>\n",
              "      <td>PAY_AMT4</td>\n",
              "      <td>PAY_AMT5</td>\n",
              "      <td>PAY_AMT6</td>\n",
              "      <td>default payment next month</td>\n",
              "    </tr>\n",
              "    <tr>\n",
              "      <th>1</th>\n",
              "      <td>1</td>\n",
              "      <td>20000</td>\n",
              "      <td>2</td>\n",
              "      <td>2</td>\n",
              "      <td>1</td>\n",
              "      <td>24</td>\n",
              "      <td>2</td>\n",
              "      <td>2</td>\n",
              "      <td>-1</td>\n",
              "      <td>-1</td>\n",
              "      <td>...</td>\n",
              "      <td>0</td>\n",
              "      <td>0</td>\n",
              "      <td>0</td>\n",
              "      <td>0</td>\n",
              "      <td>689</td>\n",
              "      <td>0</td>\n",
              "      <td>0</td>\n",
              "      <td>0</td>\n",
              "      <td>0</td>\n",
              "      <td>1</td>\n",
              "    </tr>\n",
              "    <tr>\n",
              "      <th>2</th>\n",
              "      <td>2</td>\n",
              "      <td>120000</td>\n",
              "      <td>2</td>\n",
              "      <td>2</td>\n",
              "      <td>2</td>\n",
              "      <td>26</td>\n",
              "      <td>-1</td>\n",
              "      <td>2</td>\n",
              "      <td>0</td>\n",
              "      <td>0</td>\n",
              "      <td>...</td>\n",
              "      <td>3272</td>\n",
              "      <td>3455</td>\n",
              "      <td>3261</td>\n",
              "      <td>0</td>\n",
              "      <td>1000</td>\n",
              "      <td>1000</td>\n",
              "      <td>1000</td>\n",
              "      <td>0</td>\n",
              "      <td>2000</td>\n",
              "      <td>1</td>\n",
              "    </tr>\n",
              "    <tr>\n",
              "      <th>3</th>\n",
              "      <td>3</td>\n",
              "      <td>90000</td>\n",
              "      <td>2</td>\n",
              "      <td>2</td>\n",
              "      <td>2</td>\n",
              "      <td>34</td>\n",
              "      <td>0</td>\n",
              "      <td>0</td>\n",
              "      <td>0</td>\n",
              "      <td>0</td>\n",
              "      <td>...</td>\n",
              "      <td>14331</td>\n",
              "      <td>14948</td>\n",
              "      <td>15549</td>\n",
              "      <td>1518</td>\n",
              "      <td>1500</td>\n",
              "      <td>1000</td>\n",
              "      <td>1000</td>\n",
              "      <td>1000</td>\n",
              "      <td>5000</td>\n",
              "      <td>0</td>\n",
              "    </tr>\n",
              "    <tr>\n",
              "      <th>4</th>\n",
              "      <td>4</td>\n",
              "      <td>50000</td>\n",
              "      <td>2</td>\n",
              "      <td>2</td>\n",
              "      <td>1</td>\n",
              "      <td>37</td>\n",
              "      <td>0</td>\n",
              "      <td>0</td>\n",
              "      <td>0</td>\n",
              "      <td>0</td>\n",
              "      <td>...</td>\n",
              "      <td>28314</td>\n",
              "      <td>28959</td>\n",
              "      <td>29547</td>\n",
              "      <td>2000</td>\n",
              "      <td>2019</td>\n",
              "      <td>1200</td>\n",
              "      <td>1100</td>\n",
              "      <td>1069</td>\n",
              "      <td>1000</td>\n",
              "      <td>0</td>\n",
              "    </tr>\n",
              "  </tbody>\n",
              "</table>\n",
              "<p>5 rows × 25 columns</p>\n",
              "</div>\n",
              "      <button class=\"colab-df-convert\" onclick=\"convertToInteractive('df-74060680-a9ef-4fff-8571-055e3bd65254')\"\n",
              "              title=\"Convert this dataframe to an interactive table.\"\n",
              "              style=\"display:none;\">\n",
              "        \n",
              "  <svg xmlns=\"http://www.w3.org/2000/svg\" height=\"24px\"viewBox=\"0 0 24 24\"\n",
              "       width=\"24px\">\n",
              "    <path d=\"M0 0h24v24H0V0z\" fill=\"none\"/>\n",
              "    <path d=\"M18.56 5.44l.94 2.06.94-2.06 2.06-.94-2.06-.94-.94-2.06-.94 2.06-2.06.94zm-11 1L8.5 8.5l.94-2.06 2.06-.94-2.06-.94L8.5 2.5l-.94 2.06-2.06.94zm10 10l.94 2.06.94-2.06 2.06-.94-2.06-.94-.94-2.06-.94 2.06-2.06.94z\"/><path d=\"M17.41 7.96l-1.37-1.37c-.4-.4-.92-.59-1.43-.59-.52 0-1.04.2-1.43.59L10.3 9.45l-7.72 7.72c-.78.78-.78 2.05 0 2.83L4 21.41c.39.39.9.59 1.41.59.51 0 1.02-.2 1.41-.59l7.78-7.78 2.81-2.81c.8-.78.8-2.07 0-2.86zM5.41 20L4 18.59l7.72-7.72 1.47 1.35L5.41 20z\"/>\n",
              "  </svg>\n",
              "      </button>\n",
              "      \n",
              "  <style>\n",
              "    .colab-df-container {\n",
              "      display:flex;\n",
              "      flex-wrap:wrap;\n",
              "      gap: 12px;\n",
              "    }\n",
              "\n",
              "    .colab-df-convert {\n",
              "      background-color: #E8F0FE;\n",
              "      border: none;\n",
              "      border-radius: 50%;\n",
              "      cursor: pointer;\n",
              "      display: none;\n",
              "      fill: #1967D2;\n",
              "      height: 32px;\n",
              "      padding: 0 0 0 0;\n",
              "      width: 32px;\n",
              "    }\n",
              "\n",
              "    .colab-df-convert:hover {\n",
              "      background-color: #E2EBFA;\n",
              "      box-shadow: 0px 1px 2px rgba(60, 64, 67, 0.3), 0px 1px 3px 1px rgba(60, 64, 67, 0.15);\n",
              "      fill: #174EA6;\n",
              "    }\n",
              "\n",
              "    [theme=dark] .colab-df-convert {\n",
              "      background-color: #3B4455;\n",
              "      fill: #D2E3FC;\n",
              "    }\n",
              "\n",
              "    [theme=dark] .colab-df-convert:hover {\n",
              "      background-color: #434B5C;\n",
              "      box-shadow: 0px 1px 3px 1px rgba(0, 0, 0, 0.15);\n",
              "      filter: drop-shadow(0px 1px 2px rgba(0, 0, 0, 0.3));\n",
              "      fill: #FFFFFF;\n",
              "    }\n",
              "  </style>\n",
              "\n",
              "      <script>\n",
              "        const buttonEl =\n",
              "          document.querySelector('#df-74060680-a9ef-4fff-8571-055e3bd65254 button.colab-df-convert');\n",
              "        buttonEl.style.display =\n",
              "          google.colab.kernel.accessAllowed ? 'block' : 'none';\n",
              "\n",
              "        async function convertToInteractive(key) {\n",
              "          const element = document.querySelector('#df-74060680-a9ef-4fff-8571-055e3bd65254');\n",
              "          const dataTable =\n",
              "            await google.colab.kernel.invokeFunction('convertToInteractive',\n",
              "                                                     [key], {});\n",
              "          if (!dataTable) return;\n",
              "\n",
              "          const docLinkHtml = 'Like what you see? Visit the ' +\n",
              "            '<a target=\"_blank\" href=https://colab.research.google.com/notebooks/data_table.ipynb>data table notebook</a>'\n",
              "            + ' to learn more about interactive tables.';\n",
              "          element.innerHTML = '';\n",
              "          dataTable['output_type'] = 'display_data';\n",
              "          await google.colab.output.renderOutput(dataTable, element);\n",
              "          const docLink = document.createElement('div');\n",
              "          docLink.innerHTML = docLinkHtml;\n",
              "          element.appendChild(docLink);\n",
              "        }\n",
              "      </script>\n",
              "    </div>\n",
              "  </div>\n",
              "  "
            ]
          },
          "metadata": {},
          "execution_count": 5
        }
      ]
    },
    {
      "cell_type": "markdown",
      "source": [
        "### Dataset Rows & Columns count"
      ],
      "metadata": {
        "id": "7hBIi_osiCS2"
      }
    },
    {
      "cell_type": "code",
      "source": [
        "# Dataset Rows & Columns count\n",
        "Rows,Columns = df.shape\n",
        "print('Number of rows =',Rows)\n",
        "print('Number of columns =',Columns)"
      ],
      "metadata": {
        "id": "Kllu7SJgmLij",
        "colab": {
          "base_uri": "https://localhost:8080/"
        },
        "outputId": "486d5571-f0cc-4860-84b7-1bae3800877e"
      },
      "execution_count": null,
      "outputs": [
        {
          "output_type": "stream",
          "name": "stdout",
          "text": [
            "Number of rows = 30001\n",
            "Number of columns = 25\n"
          ]
        }
      ]
    },
    {
      "cell_type": "markdown",
      "source": [
        "### Dataset Information"
      ],
      "metadata": {
        "id": "JlHwYmJAmNHm"
      }
    },
    {
      "cell_type": "code",
      "source": [
        "# Dataset Info\n",
        "df.info()"
      ],
      "metadata": {
        "id": "e9hRXRi6meOf",
        "colab": {
          "base_uri": "https://localhost:8080/"
        },
        "outputId": "54ad7c3a-d465-4d95-8c69-52f0cfce7792"
      },
      "execution_count": null,
      "outputs": [
        {
          "output_type": "stream",
          "name": "stdout",
          "text": [
            "<class 'pandas.core.frame.DataFrame'>\n",
            "RangeIndex: 30001 entries, 0 to 30000\n",
            "Data columns (total 25 columns):\n",
            " #   Column      Non-Null Count  Dtype \n",
            "---  ------      --------------  ----- \n",
            " 0   Unnamed: 0  30001 non-null  object\n",
            " 1   X1          30001 non-null  object\n",
            " 2   X2          30001 non-null  object\n",
            " 3   X3          30001 non-null  object\n",
            " 4   X4          30001 non-null  object\n",
            " 5   X5          30001 non-null  object\n",
            " 6   X6          30001 non-null  object\n",
            " 7   X7          30001 non-null  object\n",
            " 8   X8          30001 non-null  object\n",
            " 9   X9          30001 non-null  object\n",
            " 10  X10         30001 non-null  object\n",
            " 11  X11         30001 non-null  object\n",
            " 12  X12         30001 non-null  object\n",
            " 13  X13         30001 non-null  object\n",
            " 14  X14         30001 non-null  object\n",
            " 15  X15         30001 non-null  object\n",
            " 16  X16         30001 non-null  object\n",
            " 17  X17         30001 non-null  object\n",
            " 18  X18         30001 non-null  object\n",
            " 19  X19         30001 non-null  object\n",
            " 20  X20         30001 non-null  object\n",
            " 21  X21         30001 non-null  object\n",
            " 22  X22         30001 non-null  object\n",
            " 23  X23         30001 non-null  object\n",
            " 24  Y           30001 non-null  object\n",
            "dtypes: object(25)\n",
            "memory usage: 5.7+ MB\n"
          ]
        }
      ]
    },
    {
      "cell_type": "markdown",
      "source": [
        "#### Duplicate Values"
      ],
      "metadata": {
        "id": "35m5QtbWiB9F"
      }
    },
    {
      "cell_type": "code",
      "source": [
        "# Dataset Duplicate Value Count\n",
        "df.duplicated().sum()"
      ],
      "metadata": {
        "id": "1sLdpKYkmox0",
        "colab": {
          "base_uri": "https://localhost:8080/"
        },
        "outputId": "53426107-17b7-49c6-8937-b6dbe73f6951"
      },
      "execution_count": null,
      "outputs": [
        {
          "output_type": "execute_result",
          "data": {
            "text/plain": [
              "0"
            ]
          },
          "metadata": {},
          "execution_count": 8
        }
      ]
    },
    {
      "cell_type": "markdown",
      "source": [
        "#### Missing Values/Null Values"
      ],
      "metadata": {
        "id": "PoPl-ycgm1ru"
      }
    },
    {
      "cell_type": "code",
      "source": [
        "# Missing Values/Null Values Count\n",
        "df.isna().sum()"
      ],
      "metadata": {
        "id": "GgHWkxvamxVg",
        "colab": {
          "base_uri": "https://localhost:8080/"
        },
        "outputId": "73dd6a7e-d09c-429e-81ef-50c30715a8ba"
      },
      "execution_count": null,
      "outputs": [
        {
          "output_type": "execute_result",
          "data": {
            "text/plain": [
              "Unnamed: 0    0\n",
              "X1            0\n",
              "X2            0\n",
              "X3            0\n",
              "X4            0\n",
              "X5            0\n",
              "X6            0\n",
              "X7            0\n",
              "X8            0\n",
              "X9            0\n",
              "X10           0\n",
              "X11           0\n",
              "X12           0\n",
              "X13           0\n",
              "X14           0\n",
              "X15           0\n",
              "X16           0\n",
              "X17           0\n",
              "X18           0\n",
              "X19           0\n",
              "X20           0\n",
              "X21           0\n",
              "X22           0\n",
              "X23           0\n",
              "Y             0\n",
              "dtype: int64"
            ]
          },
          "metadata": {},
          "execution_count": 9
        }
      ]
    },
    {
      "cell_type": "code",
      "source": [
        "df.isnull().sum()"
      ],
      "metadata": {
        "colab": {
          "base_uri": "https://localhost:8080/"
        },
        "id": "VcEGZQDN2KIf",
        "outputId": "24cefdf7-2165-4f33-c50a-5410da23a884"
      },
      "execution_count": null,
      "outputs": [
        {
          "output_type": "execute_result",
          "data": {
            "text/plain": [
              "Unnamed: 0    0\n",
              "X1            0\n",
              "X2            0\n",
              "X3            0\n",
              "X4            0\n",
              "X5            0\n",
              "X6            0\n",
              "X7            0\n",
              "X8            0\n",
              "X9            0\n",
              "X10           0\n",
              "X11           0\n",
              "X12           0\n",
              "X13           0\n",
              "X14           0\n",
              "X15           0\n",
              "X16           0\n",
              "X17           0\n",
              "X18           0\n",
              "X19           0\n",
              "X20           0\n",
              "X21           0\n",
              "X22           0\n",
              "X23           0\n",
              "Y             0\n",
              "dtype: int64"
            ]
          },
          "metadata": {},
          "execution_count": 10
        }
      ]
    },
    {
      "cell_type": "markdown",
      "source": [
        "### What did you know about your dataset?"
      ],
      "metadata": {
        "id": "H0kj-8xxnORC"
      }
    },
    {
      "cell_type": "markdown",
      "source": [
        "1. There are 30001 Rows and 25 columns present in the dataset.\n",
        "2. Given dataset does not have any duplicated values.\n",
        "3. Dataset does not have null or missing values."
      ],
      "metadata": {
        "id": "gfoNAAC-nUe_"
      }
    },
    {
      "cell_type": "markdown",
      "source": [
        "## ***2. Understanding Your Variables***"
      ],
      "metadata": {
        "id": "nA9Y7ga8ng1Z"
      }
    },
    {
      "cell_type": "code",
      "source": [
        "# Dataset Columns\n",
        "df.columns"
      ],
      "metadata": {
        "id": "j7xfkqrt5Ag5",
        "colab": {
          "base_uri": "https://localhost:8080/"
        },
        "outputId": "a4ae9593-9281-4645-d2b0-77791971e955"
      },
      "execution_count": null,
      "outputs": [
        {
          "output_type": "execute_result",
          "data": {
            "text/plain": [
              "Index(['Unnamed: 0', 'X1', 'X2', 'X3', 'X4', 'X5', 'X6', 'X7', 'X8', 'X9',\n",
              "       'X10', 'X11', 'X12', 'X13', 'X14', 'X15', 'X16', 'X17', 'X18', 'X19',\n",
              "       'X20', 'X21', 'X22', 'X23', 'Y'],\n",
              "      dtype='object')"
            ]
          },
          "metadata": {},
          "execution_count": 11
        }
      ]
    },
    {
      "cell_type": "code",
      "source": [
        "# Dataset Describe\n",
        "df.describe().T"
      ],
      "metadata": {
        "id": "DnOaZdaE5Q5t",
        "colab": {
          "base_uri": "https://localhost:8080/"
        },
        "outputId": "e794bf1a-2aeb-4138-e4fc-357091c539bd"
      },
      "execution_count": null,
      "outputs": [
        {
          "output_type": "execute_result",
          "data": {
            "text/plain": [
              "            count unique    top   freq\n",
              "Unnamed: 0  30001  30001     ID      1\n",
              "X1          30001     82  50000   3365\n",
              "X2          30001      3      2  18112\n",
              "X3          30001      8      2  14030\n",
              "X4          30001      5      2  15964\n",
              "X5          30001     57     29   1605\n",
              "X6          30001     12      0  14737\n",
              "X7          30001     12      0  15730\n",
              "X8          30001     12      0  15764\n",
              "X9          30001     12      0  16455\n",
              "X10         30001     11      0  16947\n",
              "X11         30001     11      0  16286\n",
              "X12         30001  22724      0   2008\n",
              "X13         30001  22347      0   2506\n",
              "X14         30001  22027      0   2870\n",
              "X15         30001  21549      0   3195\n",
              "X16         30001  21011      0   3506\n",
              "X17         30001  20605      0   4020\n",
              "X18         30001   7944      0   5249\n",
              "X19         30001   7900      0   5396\n",
              "X20         30001   7519      0   5968\n",
              "X21         30001   6938      0   6408\n",
              "X22         30001   6898      0   6703\n",
              "X23         30001   6940      0   7173\n",
              "Y           30001      3      0  23364"
            ],
            "text/html": [
              "\n",
              "  <div id=\"df-8d832c15-3deb-4033-8640-2759d1d6fc5c\">\n",
              "    <div class=\"colab-df-container\">\n",
              "      <div>\n",
              "<style scoped>\n",
              "    .dataframe tbody tr th:only-of-type {\n",
              "        vertical-align: middle;\n",
              "    }\n",
              "\n",
              "    .dataframe tbody tr th {\n",
              "        vertical-align: top;\n",
              "    }\n",
              "\n",
              "    .dataframe thead th {\n",
              "        text-align: right;\n",
              "    }\n",
              "</style>\n",
              "<table border=\"1\" class=\"dataframe\">\n",
              "  <thead>\n",
              "    <tr style=\"text-align: right;\">\n",
              "      <th></th>\n",
              "      <th>count</th>\n",
              "      <th>unique</th>\n",
              "      <th>top</th>\n",
              "      <th>freq</th>\n",
              "    </tr>\n",
              "  </thead>\n",
              "  <tbody>\n",
              "    <tr>\n",
              "      <th>Unnamed: 0</th>\n",
              "      <td>30001</td>\n",
              "      <td>30001</td>\n",
              "      <td>ID</td>\n",
              "      <td>1</td>\n",
              "    </tr>\n",
              "    <tr>\n",
              "      <th>X1</th>\n",
              "      <td>30001</td>\n",
              "      <td>82</td>\n",
              "      <td>50000</td>\n",
              "      <td>3365</td>\n",
              "    </tr>\n",
              "    <tr>\n",
              "      <th>X2</th>\n",
              "      <td>30001</td>\n",
              "      <td>3</td>\n",
              "      <td>2</td>\n",
              "      <td>18112</td>\n",
              "    </tr>\n",
              "    <tr>\n",
              "      <th>X3</th>\n",
              "      <td>30001</td>\n",
              "      <td>8</td>\n",
              "      <td>2</td>\n",
              "      <td>14030</td>\n",
              "    </tr>\n",
              "    <tr>\n",
              "      <th>X4</th>\n",
              "      <td>30001</td>\n",
              "      <td>5</td>\n",
              "      <td>2</td>\n",
              "      <td>15964</td>\n",
              "    </tr>\n",
              "    <tr>\n",
              "      <th>X5</th>\n",
              "      <td>30001</td>\n",
              "      <td>57</td>\n",
              "      <td>29</td>\n",
              "      <td>1605</td>\n",
              "    </tr>\n",
              "    <tr>\n",
              "      <th>X6</th>\n",
              "      <td>30001</td>\n",
              "      <td>12</td>\n",
              "      <td>0</td>\n",
              "      <td>14737</td>\n",
              "    </tr>\n",
              "    <tr>\n",
              "      <th>X7</th>\n",
              "      <td>30001</td>\n",
              "      <td>12</td>\n",
              "      <td>0</td>\n",
              "      <td>15730</td>\n",
              "    </tr>\n",
              "    <tr>\n",
              "      <th>X8</th>\n",
              "      <td>30001</td>\n",
              "      <td>12</td>\n",
              "      <td>0</td>\n",
              "      <td>15764</td>\n",
              "    </tr>\n",
              "    <tr>\n",
              "      <th>X9</th>\n",
              "      <td>30001</td>\n",
              "      <td>12</td>\n",
              "      <td>0</td>\n",
              "      <td>16455</td>\n",
              "    </tr>\n",
              "    <tr>\n",
              "      <th>X10</th>\n",
              "      <td>30001</td>\n",
              "      <td>11</td>\n",
              "      <td>0</td>\n",
              "      <td>16947</td>\n",
              "    </tr>\n",
              "    <tr>\n",
              "      <th>X11</th>\n",
              "      <td>30001</td>\n",
              "      <td>11</td>\n",
              "      <td>0</td>\n",
              "      <td>16286</td>\n",
              "    </tr>\n",
              "    <tr>\n",
              "      <th>X12</th>\n",
              "      <td>30001</td>\n",
              "      <td>22724</td>\n",
              "      <td>0</td>\n",
              "      <td>2008</td>\n",
              "    </tr>\n",
              "    <tr>\n",
              "      <th>X13</th>\n",
              "      <td>30001</td>\n",
              "      <td>22347</td>\n",
              "      <td>0</td>\n",
              "      <td>2506</td>\n",
              "    </tr>\n",
              "    <tr>\n",
              "      <th>X14</th>\n",
              "      <td>30001</td>\n",
              "      <td>22027</td>\n",
              "      <td>0</td>\n",
              "      <td>2870</td>\n",
              "    </tr>\n",
              "    <tr>\n",
              "      <th>X15</th>\n",
              "      <td>30001</td>\n",
              "      <td>21549</td>\n",
              "      <td>0</td>\n",
              "      <td>3195</td>\n",
              "    </tr>\n",
              "    <tr>\n",
              "      <th>X16</th>\n",
              "      <td>30001</td>\n",
              "      <td>21011</td>\n",
              "      <td>0</td>\n",
              "      <td>3506</td>\n",
              "    </tr>\n",
              "    <tr>\n",
              "      <th>X17</th>\n",
              "      <td>30001</td>\n",
              "      <td>20605</td>\n",
              "      <td>0</td>\n",
              "      <td>4020</td>\n",
              "    </tr>\n",
              "    <tr>\n",
              "      <th>X18</th>\n",
              "      <td>30001</td>\n",
              "      <td>7944</td>\n",
              "      <td>0</td>\n",
              "      <td>5249</td>\n",
              "    </tr>\n",
              "    <tr>\n",
              "      <th>X19</th>\n",
              "      <td>30001</td>\n",
              "      <td>7900</td>\n",
              "      <td>0</td>\n",
              "      <td>5396</td>\n",
              "    </tr>\n",
              "    <tr>\n",
              "      <th>X20</th>\n",
              "      <td>30001</td>\n",
              "      <td>7519</td>\n",
              "      <td>0</td>\n",
              "      <td>5968</td>\n",
              "    </tr>\n",
              "    <tr>\n",
              "      <th>X21</th>\n",
              "      <td>30001</td>\n",
              "      <td>6938</td>\n",
              "      <td>0</td>\n",
              "      <td>6408</td>\n",
              "    </tr>\n",
              "    <tr>\n",
              "      <th>X22</th>\n",
              "      <td>30001</td>\n",
              "      <td>6898</td>\n",
              "      <td>0</td>\n",
              "      <td>6703</td>\n",
              "    </tr>\n",
              "    <tr>\n",
              "      <th>X23</th>\n",
              "      <td>30001</td>\n",
              "      <td>6940</td>\n",
              "      <td>0</td>\n",
              "      <td>7173</td>\n",
              "    </tr>\n",
              "    <tr>\n",
              "      <th>Y</th>\n",
              "      <td>30001</td>\n",
              "      <td>3</td>\n",
              "      <td>0</td>\n",
              "      <td>23364</td>\n",
              "    </tr>\n",
              "  </tbody>\n",
              "</table>\n",
              "</div>\n",
              "      <button class=\"colab-df-convert\" onclick=\"convertToInteractive('df-8d832c15-3deb-4033-8640-2759d1d6fc5c')\"\n",
              "              title=\"Convert this dataframe to an interactive table.\"\n",
              "              style=\"display:none;\">\n",
              "        \n",
              "  <svg xmlns=\"http://www.w3.org/2000/svg\" height=\"24px\"viewBox=\"0 0 24 24\"\n",
              "       width=\"24px\">\n",
              "    <path d=\"M0 0h24v24H0V0z\" fill=\"none\"/>\n",
              "    <path d=\"M18.56 5.44l.94 2.06.94-2.06 2.06-.94-2.06-.94-.94-2.06-.94 2.06-2.06.94zm-11 1L8.5 8.5l.94-2.06 2.06-.94-2.06-.94L8.5 2.5l-.94 2.06-2.06.94zm10 10l.94 2.06.94-2.06 2.06-.94-2.06-.94-.94-2.06-.94 2.06-2.06.94z\"/><path d=\"M17.41 7.96l-1.37-1.37c-.4-.4-.92-.59-1.43-.59-.52 0-1.04.2-1.43.59L10.3 9.45l-7.72 7.72c-.78.78-.78 2.05 0 2.83L4 21.41c.39.39.9.59 1.41.59.51 0 1.02-.2 1.41-.59l7.78-7.78 2.81-2.81c.8-.78.8-2.07 0-2.86zM5.41 20L4 18.59l7.72-7.72 1.47 1.35L5.41 20z\"/>\n",
              "  </svg>\n",
              "      </button>\n",
              "      \n",
              "  <style>\n",
              "    .colab-df-container {\n",
              "      display:flex;\n",
              "      flex-wrap:wrap;\n",
              "      gap: 12px;\n",
              "    }\n",
              "\n",
              "    .colab-df-convert {\n",
              "      background-color: #E8F0FE;\n",
              "      border: none;\n",
              "      border-radius: 50%;\n",
              "      cursor: pointer;\n",
              "      display: none;\n",
              "      fill: #1967D2;\n",
              "      height: 32px;\n",
              "      padding: 0 0 0 0;\n",
              "      width: 32px;\n",
              "    }\n",
              "\n",
              "    .colab-df-convert:hover {\n",
              "      background-color: #E2EBFA;\n",
              "      box-shadow: 0px 1px 2px rgba(60, 64, 67, 0.3), 0px 1px 3px 1px rgba(60, 64, 67, 0.15);\n",
              "      fill: #174EA6;\n",
              "    }\n",
              "\n",
              "    [theme=dark] .colab-df-convert {\n",
              "      background-color: #3B4455;\n",
              "      fill: #D2E3FC;\n",
              "    }\n",
              "\n",
              "    [theme=dark] .colab-df-convert:hover {\n",
              "      background-color: #434B5C;\n",
              "      box-shadow: 0px 1px 3px 1px rgba(0, 0, 0, 0.15);\n",
              "      filter: drop-shadow(0px 1px 2px rgba(0, 0, 0, 0.3));\n",
              "      fill: #FFFFFF;\n",
              "    }\n",
              "  </style>\n",
              "\n",
              "      <script>\n",
              "        const buttonEl =\n",
              "          document.querySelector('#df-8d832c15-3deb-4033-8640-2759d1d6fc5c button.colab-df-convert');\n",
              "        buttonEl.style.display =\n",
              "          google.colab.kernel.accessAllowed ? 'block' : 'none';\n",
              "\n",
              "        async function convertToInteractive(key) {\n",
              "          const element = document.querySelector('#df-8d832c15-3deb-4033-8640-2759d1d6fc5c');\n",
              "          const dataTable =\n",
              "            await google.colab.kernel.invokeFunction('convertToInteractive',\n",
              "                                                     [key], {});\n",
              "          if (!dataTable) return;\n",
              "\n",
              "          const docLinkHtml = 'Like what you see? Visit the ' +\n",
              "            '<a target=\"_blank\" href=https://colab.research.google.com/notebooks/data_table.ipynb>data table notebook</a>'\n",
              "            + ' to learn more about interactive tables.';\n",
              "          element.innerHTML = '';\n",
              "          dataTable['output_type'] = 'display_data';\n",
              "          await google.colab.output.renderOutput(dataTable, element);\n",
              "          const docLink = document.createElement('div');\n",
              "          docLink.innerHTML = docLinkHtml;\n",
              "          element.appendChild(docLink);\n",
              "        }\n",
              "      </script>\n",
              "    </div>\n",
              "  </div>\n",
              "  "
            ]
          },
          "metadata": {},
          "execution_count": 12
        }
      ]
    },
    {
      "cell_type": "markdown",
      "source": [
        "Column names are looking incorrect, so replacing them with the usefull column"
      ],
      "metadata": {
        "id": "8s1P7lvx0XdD"
      }
    },
    {
      "cell_type": "code",
      "source": [
        "# dropping the index and renaming the header\n",
        "df.rename(columns=df.iloc[0]).drop(df.index[0],inplace=True)\n",
        "df.columns"
      ],
      "metadata": {
        "colab": {
          "base_uri": "https://localhost:8080/"
        },
        "id": "X-yhfpcc0hD2",
        "outputId": "6cef3281-7464-4d23-cb28-25013f873226"
      },
      "execution_count": null,
      "outputs": [
        {
          "output_type": "execute_result",
          "data": {
            "text/plain": [
              "Index(['Unnamed: 0', 'X1', 'X2', 'X3', 'X4', 'X5', 'X6', 'X7', 'X8', 'X9',\n",
              "       'X10', 'X11', 'X12', 'X13', 'X14', 'X15', 'X16', 'X17', 'X18', 'X19',\n",
              "       'X20', 'X21', 'X22', 'X23', 'Y'],\n",
              "      dtype='object')"
            ]
          },
          "metadata": {},
          "execution_count": 13
        }
      ]
    },
    {
      "cell_type": "code",
      "source": [
        "# making next row as columns\n",
        "df.columns = df.iloc[0]\n",
        "# dropping the index\n",
        "df = df.drop(df.index[0])\n",
        "# Resetting the index\n",
        "df = df.reset_index(drop=True)"
      ],
      "metadata": {
        "id": "7GJAm77S0urf"
      },
      "execution_count": null,
      "outputs": []
    },
    {
      "cell_type": "code",
      "source": [
        "# Printing the coulumns again\n",
        "df.columns"
      ],
      "metadata": {
        "colab": {
          "base_uri": "https://localhost:8080/"
        },
        "id": "flbfsuJw06TI",
        "outputId": "063f51f5-4d83-4ba3-e1da-8241ac73e642"
      },
      "execution_count": null,
      "outputs": [
        {
          "output_type": "execute_result",
          "data": {
            "text/plain": [
              "Index(['ID', 'LIMIT_BAL', 'SEX', 'EDUCATION', 'MARRIAGE', 'AGE', 'PAY_0',\n",
              "       'PAY_2', 'PAY_3', 'PAY_4', 'PAY_5', 'PAY_6', 'BILL_AMT1', 'BILL_AMT2',\n",
              "       'BILL_AMT3', 'BILL_AMT4', 'BILL_AMT5', 'BILL_AMT6', 'PAY_AMT1',\n",
              "       'PAY_AMT2', 'PAY_AMT3', 'PAY_AMT4', 'PAY_AMT5', 'PAY_AMT6',\n",
              "       'default payment next month'],\n",
              "      dtype='object', name=0)"
            ]
          },
          "metadata": {},
          "execution_count": 15
        }
      ]
    },
    {
      "cell_type": "code",
      "source": [
        "# Printing the description of dataset again\n",
        "df.describe().T"
      ],
      "metadata": {
        "colab": {
          "base_uri": "https://localhost:8080/"
        },
        "id": "DuYVvVva1cv_",
        "outputId": "cb6eea75-726b-48c2-841d-d28aa4491dee"
      },
      "execution_count": null,
      "outputs": [
        {
          "output_type": "execute_result",
          "data": {
            "text/plain": [
              "                            count  unique    top   freq\n",
              "0                                                      \n",
              "ID                          30000   30000      1      1\n",
              "LIMIT_BAL                   30000      81  50000   3365\n",
              "SEX                         30000       2      2  18112\n",
              "EDUCATION                   30000       7      2  14030\n",
              "MARRIAGE                    30000       4      2  15964\n",
              "AGE                         30000      56     29   1605\n",
              "PAY_0                       30000      11      0  14737\n",
              "PAY_2                       30000      11      0  15730\n",
              "PAY_3                       30000      11      0  15764\n",
              "PAY_4                       30000      11      0  16455\n",
              "PAY_5                       30000      10      0  16947\n",
              "PAY_6                       30000      10      0  16286\n",
              "BILL_AMT1                   30000   22723      0   2008\n",
              "BILL_AMT2                   30000   22346      0   2506\n",
              "BILL_AMT3                   30000   22026      0   2870\n",
              "BILL_AMT4                   30000   21548      0   3195\n",
              "BILL_AMT5                   30000   21010      0   3506\n",
              "BILL_AMT6                   30000   20604      0   4020\n",
              "PAY_AMT1                    30000    7943      0   5249\n",
              "PAY_AMT2                    30000    7899      0   5396\n",
              "PAY_AMT3                    30000    7518      0   5968\n",
              "PAY_AMT4                    30000    6937      0   6408\n",
              "PAY_AMT5                    30000    6897      0   6703\n",
              "PAY_AMT6                    30000    6939      0   7173\n",
              "default payment next month  30000       2      0  23364"
            ],
            "text/html": [
              "\n",
              "  <div id=\"df-8761feed-79aa-4726-a31b-861ea72968bf\">\n",
              "    <div class=\"colab-df-container\">\n",
              "      <div>\n",
              "<style scoped>\n",
              "    .dataframe tbody tr th:only-of-type {\n",
              "        vertical-align: middle;\n",
              "    }\n",
              "\n",
              "    .dataframe tbody tr th {\n",
              "        vertical-align: top;\n",
              "    }\n",
              "\n",
              "    .dataframe thead th {\n",
              "        text-align: right;\n",
              "    }\n",
              "</style>\n",
              "<table border=\"1\" class=\"dataframe\">\n",
              "  <thead>\n",
              "    <tr style=\"text-align: right;\">\n",
              "      <th></th>\n",
              "      <th>count</th>\n",
              "      <th>unique</th>\n",
              "      <th>top</th>\n",
              "      <th>freq</th>\n",
              "    </tr>\n",
              "    <tr>\n",
              "      <th>0</th>\n",
              "      <th></th>\n",
              "      <th></th>\n",
              "      <th></th>\n",
              "      <th></th>\n",
              "    </tr>\n",
              "  </thead>\n",
              "  <tbody>\n",
              "    <tr>\n",
              "      <th>ID</th>\n",
              "      <td>30000</td>\n",
              "      <td>30000</td>\n",
              "      <td>1</td>\n",
              "      <td>1</td>\n",
              "    </tr>\n",
              "    <tr>\n",
              "      <th>LIMIT_BAL</th>\n",
              "      <td>30000</td>\n",
              "      <td>81</td>\n",
              "      <td>50000</td>\n",
              "      <td>3365</td>\n",
              "    </tr>\n",
              "    <tr>\n",
              "      <th>SEX</th>\n",
              "      <td>30000</td>\n",
              "      <td>2</td>\n",
              "      <td>2</td>\n",
              "      <td>18112</td>\n",
              "    </tr>\n",
              "    <tr>\n",
              "      <th>EDUCATION</th>\n",
              "      <td>30000</td>\n",
              "      <td>7</td>\n",
              "      <td>2</td>\n",
              "      <td>14030</td>\n",
              "    </tr>\n",
              "    <tr>\n",
              "      <th>MARRIAGE</th>\n",
              "      <td>30000</td>\n",
              "      <td>4</td>\n",
              "      <td>2</td>\n",
              "      <td>15964</td>\n",
              "    </tr>\n",
              "    <tr>\n",
              "      <th>AGE</th>\n",
              "      <td>30000</td>\n",
              "      <td>56</td>\n",
              "      <td>29</td>\n",
              "      <td>1605</td>\n",
              "    </tr>\n",
              "    <tr>\n",
              "      <th>PAY_0</th>\n",
              "      <td>30000</td>\n",
              "      <td>11</td>\n",
              "      <td>0</td>\n",
              "      <td>14737</td>\n",
              "    </tr>\n",
              "    <tr>\n",
              "      <th>PAY_2</th>\n",
              "      <td>30000</td>\n",
              "      <td>11</td>\n",
              "      <td>0</td>\n",
              "      <td>15730</td>\n",
              "    </tr>\n",
              "    <tr>\n",
              "      <th>PAY_3</th>\n",
              "      <td>30000</td>\n",
              "      <td>11</td>\n",
              "      <td>0</td>\n",
              "      <td>15764</td>\n",
              "    </tr>\n",
              "    <tr>\n",
              "      <th>PAY_4</th>\n",
              "      <td>30000</td>\n",
              "      <td>11</td>\n",
              "      <td>0</td>\n",
              "      <td>16455</td>\n",
              "    </tr>\n",
              "    <tr>\n",
              "      <th>PAY_5</th>\n",
              "      <td>30000</td>\n",
              "      <td>10</td>\n",
              "      <td>0</td>\n",
              "      <td>16947</td>\n",
              "    </tr>\n",
              "    <tr>\n",
              "      <th>PAY_6</th>\n",
              "      <td>30000</td>\n",
              "      <td>10</td>\n",
              "      <td>0</td>\n",
              "      <td>16286</td>\n",
              "    </tr>\n",
              "    <tr>\n",
              "      <th>BILL_AMT1</th>\n",
              "      <td>30000</td>\n",
              "      <td>22723</td>\n",
              "      <td>0</td>\n",
              "      <td>2008</td>\n",
              "    </tr>\n",
              "    <tr>\n",
              "      <th>BILL_AMT2</th>\n",
              "      <td>30000</td>\n",
              "      <td>22346</td>\n",
              "      <td>0</td>\n",
              "      <td>2506</td>\n",
              "    </tr>\n",
              "    <tr>\n",
              "      <th>BILL_AMT3</th>\n",
              "      <td>30000</td>\n",
              "      <td>22026</td>\n",
              "      <td>0</td>\n",
              "      <td>2870</td>\n",
              "    </tr>\n",
              "    <tr>\n",
              "      <th>BILL_AMT4</th>\n",
              "      <td>30000</td>\n",
              "      <td>21548</td>\n",
              "      <td>0</td>\n",
              "      <td>3195</td>\n",
              "    </tr>\n",
              "    <tr>\n",
              "      <th>BILL_AMT5</th>\n",
              "      <td>30000</td>\n",
              "      <td>21010</td>\n",
              "      <td>0</td>\n",
              "      <td>3506</td>\n",
              "    </tr>\n",
              "    <tr>\n",
              "      <th>BILL_AMT6</th>\n",
              "      <td>30000</td>\n",
              "      <td>20604</td>\n",
              "      <td>0</td>\n",
              "      <td>4020</td>\n",
              "    </tr>\n",
              "    <tr>\n",
              "      <th>PAY_AMT1</th>\n",
              "      <td>30000</td>\n",
              "      <td>7943</td>\n",
              "      <td>0</td>\n",
              "      <td>5249</td>\n",
              "    </tr>\n",
              "    <tr>\n",
              "      <th>PAY_AMT2</th>\n",
              "      <td>30000</td>\n",
              "      <td>7899</td>\n",
              "      <td>0</td>\n",
              "      <td>5396</td>\n",
              "    </tr>\n",
              "    <tr>\n",
              "      <th>PAY_AMT3</th>\n",
              "      <td>30000</td>\n",
              "      <td>7518</td>\n",
              "      <td>0</td>\n",
              "      <td>5968</td>\n",
              "    </tr>\n",
              "    <tr>\n",
              "      <th>PAY_AMT4</th>\n",
              "      <td>30000</td>\n",
              "      <td>6937</td>\n",
              "      <td>0</td>\n",
              "      <td>6408</td>\n",
              "    </tr>\n",
              "    <tr>\n",
              "      <th>PAY_AMT5</th>\n",
              "      <td>30000</td>\n",
              "      <td>6897</td>\n",
              "      <td>0</td>\n",
              "      <td>6703</td>\n",
              "    </tr>\n",
              "    <tr>\n",
              "      <th>PAY_AMT6</th>\n",
              "      <td>30000</td>\n",
              "      <td>6939</td>\n",
              "      <td>0</td>\n",
              "      <td>7173</td>\n",
              "    </tr>\n",
              "    <tr>\n",
              "      <th>default payment next month</th>\n",
              "      <td>30000</td>\n",
              "      <td>2</td>\n",
              "      <td>0</td>\n",
              "      <td>23364</td>\n",
              "    </tr>\n",
              "  </tbody>\n",
              "</table>\n",
              "</div>\n",
              "      <button class=\"colab-df-convert\" onclick=\"convertToInteractive('df-8761feed-79aa-4726-a31b-861ea72968bf')\"\n",
              "              title=\"Convert this dataframe to an interactive table.\"\n",
              "              style=\"display:none;\">\n",
              "        \n",
              "  <svg xmlns=\"http://www.w3.org/2000/svg\" height=\"24px\"viewBox=\"0 0 24 24\"\n",
              "       width=\"24px\">\n",
              "    <path d=\"M0 0h24v24H0V0z\" fill=\"none\"/>\n",
              "    <path d=\"M18.56 5.44l.94 2.06.94-2.06 2.06-.94-2.06-.94-.94-2.06-.94 2.06-2.06.94zm-11 1L8.5 8.5l.94-2.06 2.06-.94-2.06-.94L8.5 2.5l-.94 2.06-2.06.94zm10 10l.94 2.06.94-2.06 2.06-.94-2.06-.94-.94-2.06-.94 2.06-2.06.94z\"/><path d=\"M17.41 7.96l-1.37-1.37c-.4-.4-.92-.59-1.43-.59-.52 0-1.04.2-1.43.59L10.3 9.45l-7.72 7.72c-.78.78-.78 2.05 0 2.83L4 21.41c.39.39.9.59 1.41.59.51 0 1.02-.2 1.41-.59l7.78-7.78 2.81-2.81c.8-.78.8-2.07 0-2.86zM5.41 20L4 18.59l7.72-7.72 1.47 1.35L5.41 20z\"/>\n",
              "  </svg>\n",
              "      </button>\n",
              "      \n",
              "  <style>\n",
              "    .colab-df-container {\n",
              "      display:flex;\n",
              "      flex-wrap:wrap;\n",
              "      gap: 12px;\n",
              "    }\n",
              "\n",
              "    .colab-df-convert {\n",
              "      background-color: #E8F0FE;\n",
              "      border: none;\n",
              "      border-radius: 50%;\n",
              "      cursor: pointer;\n",
              "      display: none;\n",
              "      fill: #1967D2;\n",
              "      height: 32px;\n",
              "      padding: 0 0 0 0;\n",
              "      width: 32px;\n",
              "    }\n",
              "\n",
              "    .colab-df-convert:hover {\n",
              "      background-color: #E2EBFA;\n",
              "      box-shadow: 0px 1px 2px rgba(60, 64, 67, 0.3), 0px 1px 3px 1px rgba(60, 64, 67, 0.15);\n",
              "      fill: #174EA6;\n",
              "    }\n",
              "\n",
              "    [theme=dark] .colab-df-convert {\n",
              "      background-color: #3B4455;\n",
              "      fill: #D2E3FC;\n",
              "    }\n",
              "\n",
              "    [theme=dark] .colab-df-convert:hover {\n",
              "      background-color: #434B5C;\n",
              "      box-shadow: 0px 1px 3px 1px rgba(0, 0, 0, 0.15);\n",
              "      filter: drop-shadow(0px 1px 2px rgba(0, 0, 0, 0.3));\n",
              "      fill: #FFFFFF;\n",
              "    }\n",
              "  </style>\n",
              "\n",
              "      <script>\n",
              "        const buttonEl =\n",
              "          document.querySelector('#df-8761feed-79aa-4726-a31b-861ea72968bf button.colab-df-convert');\n",
              "        buttonEl.style.display =\n",
              "          google.colab.kernel.accessAllowed ? 'block' : 'none';\n",
              "\n",
              "        async function convertToInteractive(key) {\n",
              "          const element = document.querySelector('#df-8761feed-79aa-4726-a31b-861ea72968bf');\n",
              "          const dataTable =\n",
              "            await google.colab.kernel.invokeFunction('convertToInteractive',\n",
              "                                                     [key], {});\n",
              "          if (!dataTable) return;\n",
              "\n",
              "          const docLinkHtml = 'Like what you see? Visit the ' +\n",
              "            '<a target=\"_blank\" href=https://colab.research.google.com/notebooks/data_table.ipynb>data table notebook</a>'\n",
              "            + ' to learn more about interactive tables.';\n",
              "          element.innerHTML = '';\n",
              "          dataTable['output_type'] = 'display_data';\n",
              "          await google.colab.output.renderOutput(dataTable, element);\n",
              "          const docLink = document.createElement('div');\n",
              "          docLink.innerHTML = docLinkHtml;\n",
              "          element.appendChild(docLink);\n",
              "        }\n",
              "      </script>\n",
              "    </div>\n",
              "  </div>\n",
              "  "
            ]
          },
          "metadata": {},
          "execution_count": 16
        }
      ]
    },
    {
      "cell_type": "markdown",
      "source": [
        "### Variables Description "
      ],
      "metadata": {
        "id": "PBTbrJXOngz2"
      }
    },
    {
      "cell_type": "markdown",
      "source": [
        "![image.png](data:image/png;base64,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)"
      ],
      "metadata": {
        "id": "aJV4KIxSnxay"
      }
    },
    {
      "cell_type": "markdown",
      "source": [
        "### Check Unique Values for each variable."
      ],
      "metadata": {
        "id": "u3PMJOP6ngxN"
      }
    },
    {
      "cell_type": "code",
      "source": [
        "# Check Unique Values for each variable.\n",
        "uniquer = df[['ID', 'LIMIT_BAL', 'SEX', 'EDUCATION', 'MARRIAGE', 'AGE', 'PAY_0',\n",
        "       'PAY_2', 'PAY_3', 'PAY_4', 'PAY_5', 'PAY_6', 'BILL_AMT1', 'BILL_AMT2',\n",
        "       'BILL_AMT3', 'BILL_AMT4', 'BILL_AMT5', 'BILL_AMT6', 'PAY_AMT1',\n",
        "       'PAY_AMT2', 'PAY_AMT3', 'PAY_AMT4', 'PAY_AMT5', 'PAY_AMT6',\n",
        "       'default payment next month']].nunique()\n",
        "print(uniquer)"
      ],
      "metadata": {
        "id": "zms12Yq5n-jE",
        "colab": {
          "base_uri": "https://localhost:8080/"
        },
        "outputId": "155a00db-08ad-4295-f998-d4716409ea88"
      },
      "execution_count": null,
      "outputs": [
        {
          "output_type": "stream",
          "name": "stdout",
          "text": [
            "0\n",
            "ID                            30000\n",
            "LIMIT_BAL                        81\n",
            "SEX                               2\n",
            "EDUCATION                         7\n",
            "MARRIAGE                          4\n",
            "AGE                              56\n",
            "PAY_0                            11\n",
            "PAY_2                            11\n",
            "PAY_3                            11\n",
            "PAY_4                            11\n",
            "PAY_5                            10\n",
            "PAY_6                            10\n",
            "BILL_AMT1                     22723\n",
            "BILL_AMT2                     22346\n",
            "BILL_AMT3                     22026\n",
            "BILL_AMT4                     21548\n",
            "BILL_AMT5                     21010\n",
            "BILL_AMT6                     20604\n",
            "PAY_AMT1                       7943\n",
            "PAY_AMT2                       7899\n",
            "PAY_AMT3                       7518\n",
            "PAY_AMT4                       6937\n",
            "PAY_AMT5                       6897\n",
            "PAY_AMT6                       6939\n",
            "default payment next month        2\n",
            "dtype: int64\n"
          ]
        }
      ]
    },
    {
      "cell_type": "code",
      "source": [
        "# Printing the unique values for each column \n",
        "column_list = df.columns.values.tolist()\n",
        "for column_name in column_list:\n",
        "   print(f\"Unique values in column '{column_name}':\")\n",
        "   print(df[column_name].unique())"
      ],
      "metadata": {
        "colab": {
          "base_uri": "https://localhost:8080/"
        },
        "id": "QqqVYuJ88VsX",
        "outputId": "6aeb5214-0f5a-48bd-9ed9-9750913a9910"
      },
      "execution_count": null,
      "outputs": [
        {
          "output_type": "stream",
          "name": "stdout",
          "text": [
            "Unique values in column 'ID':\n",
            "[1 2 3 ... 29998 29999 30000]\n",
            "Unique values in column 'LIMIT_BAL':\n",
            "[20000 120000 90000 50000 500000 100000 140000 200000 260000 630000 70000\n",
            " 250000 320000 360000 180000 130000 450000 60000 230000 160000 280000\n",
            " 10000 40000 210000 150000 380000 310000 400000 80000 290000 340000 300000\n",
            " 30000 240000 470000 480000 350000 330000 110000 420000 170000 370000\n",
            " 270000 220000 190000 510000 460000 440000 410000 490000 390000 580000\n",
            " 600000 620000 610000 700000 670000 680000 430000 550000 540000 1000000\n",
            " 530000 710000 560000 520000 750000 640000 16000 570000 590000 660000\n",
            " 720000 327680 740000 800000 760000 690000 650000 780000 730000]\n",
            "Unique values in column 'SEX':\n",
            "[2 1]\n",
            "Unique values in column 'EDUCATION':\n",
            "[2 1 3 5 4 6 0]\n",
            "Unique values in column 'MARRIAGE':\n",
            "[1 2 3 0]\n",
            "Unique values in column 'AGE':\n",
            "[24 26 34 37 57 29 23 28 35 51 41 30 49 39 40 27 47 33 32 54 58 22 25 31\n",
            " 46 42 43 45 56 44 53 38 63 36 52 48 55 60 50 75 61 73 59 21 67 66 62 70\n",
            " 72 64 65 71 69 68 79 74]\n",
            "Unique values in column 'PAY_0':\n",
            "[2 -1 0 -2 1 3 4 8 7 5 6]\n",
            "Unique values in column 'PAY_2':\n",
            "[2 0 -1 -2 3 5 7 4 1 6 8]\n",
            "Unique values in column 'PAY_3':\n",
            "[-1 0 2 -2 3 4 6 7 1 5 8]\n",
            "Unique values in column 'PAY_4':\n",
            "[-1 0 -2 2 3 4 5 7 6 1 8]\n",
            "Unique values in column 'PAY_5':\n",
            "[-2 0 -1 2 3 5 4 7 8 6]\n",
            "Unique values in column 'PAY_6':\n",
            "[-2 2 0 -1 3 6 4 7 8 5]\n",
            "Unique values in column 'BILL_AMT1':\n",
            "[3913 2682 29239 ... 1683 -1645 47929]\n",
            "Unique values in column 'BILL_AMT2':\n",
            "[3102 1725 14027 ... 3356 78379 48905]\n",
            "Unique values in column 'BILL_AMT3':\n",
            "[689 2682 13559 ... 2758 76304 49764]\n",
            "Unique values in column 'BILL_AMT4':\n",
            "[0 3272 14331 ... 20878 52774 36535]\n",
            "Unique values in column 'BILL_AMT5':\n",
            "[0 3455 14948 ... 31237 5190 32428]\n",
            "Unique values in column 'BILL_AMT6':\n",
            "[0 3261 15549 ... 19357 48944 15313]\n",
            "Unique values in column 'PAY_AMT1':\n",
            "[0 1518 2000 ... 10029 9054 85900]\n",
            "Unique values in column 'PAY_AMT2':\n",
            "[689 1000 1500 ... 2977 111784 3526]\n",
            "Unique values in column 'PAY_AMT3':\n",
            "[0 1000 1200 ... 349395 8907 25128]\n",
            "Unique values in column 'PAY_AMT4':\n",
            "[0 1000 1100 ... 2556 10115 8049]\n",
            "Unique values in column 'PAY_AMT5':\n",
            "[0 1000 1069 ... 8040 3319 52964]\n",
            "Unique values in column 'PAY_AMT6':\n",
            "[0 2000 5000 ... 70052 220076 16080]\n",
            "Unique values in column 'default payment next month':\n",
            "[1 0]\n"
          ]
        }
      ]
    },
    {
      "cell_type": "markdown",
      "source": [
        "## 3. ***Data Wrangling***"
      ],
      "metadata": {
        "id": "dauF4eBmngu3"
      }
    },
    {
      "cell_type": "markdown",
      "source": [
        "### Data Wrangling Code"
      ],
      "metadata": {
        "id": "bKJF3rekwFvQ"
      }
    },
    {
      "cell_type": "markdown",
      "source": [
        "Changing the column names as they are not clear to understand by adding months istead of numbers."
      ],
      "metadata": {
        "id": "Ng7YfHKQ5NsH"
      }
    },
    {
      "cell_type": "code",
      "source": [
        "# Write your code to make your dataset analysis ready.\n",
        "# renaming the pay column\n",
        "df.rename(columns={'PAY_0':'PAY_SEPT','PAY_2':'PAY_AUG','PAY_3':'PAY_JUL','PAY_4':'PAY_JUN','PAY_5':'PAY_MAY','PAY_6':'PAY_APR'},inplace=True)\n",
        "\n",
        "# renaming the Bill column\n",
        "df.rename(columns={'BILL_AMT1':'BILL_AMT_SEPT','BILL_AMT2':'BILL_AMT_AUG','BILL_AMT3':'BILL_AMT_JUL','BILL_AMT4':'BILL_AMT_JUN','BILL_AMT5':'BILL_AMT_MAY','BILL_AMT6':'BILL_AMT_APR'},inplace=True)\n",
        "\n",
        "# renaming the Amount column\n",
        "df.rename(columns={'PAY_AMT1':'PAY_AMT_SEPT','PAY_AMT2':'PAY_AMT_AUG','PAY_AMT3':'PAY_AMT_JUL','PAY_AMT4':'PAY_AMT_JUN','PAY_AMT5':'PAY_AMT_MAY','PAY_AMT6':'PAY_AMT_APR'},inplace=True)\n",
        "\n",
        "# renaming the Default column\n",
        "df.rename(columns={'default payment next month':'default'},inplace=True)"
      ],
      "metadata": {
        "id": "wk-9a2fpoLcV"
      },
      "execution_count": null,
      "outputs": []
    },
    {
      "cell_type": "code",
      "source": [
        "# Rechecking the names\n",
        "df.head()"
      ],
      "metadata": {
        "colab": {
          "base_uri": "https://localhost:8080/"
        },
        "id": "_Ixlb8KU6V-Z",
        "outputId": "d597f88b-f2a1-489b-b494-f6109bb7b619"
      },
      "execution_count": null,
      "outputs": [
        {
          "output_type": "execute_result",
          "data": {
            "text/plain": [
              "0 ID LIMIT_BAL SEX EDUCATION MARRIAGE AGE PAY_SEPT PAY_AUG PAY_JUL PAY_JUN  \\\n",
              "0  1     20000   2         2        1  24        2       2      -1      -1   \n",
              "1  2    120000   2         2        2  26       -1       2       0       0   \n",
              "2  3     90000   2         2        2  34        0       0       0       0   \n",
              "3  4     50000   2         2        1  37        0       0       0       0   \n",
              "4  5     50000   1         2        1  57       -1       0      -1       0   \n",
              "\n",
              "0  ... BILL_AMT_JUN BILL_AMT_MAY BILL_AMT_APR PAY_AMT_SEPT PAY_AMT_AUG  \\\n",
              "0  ...            0            0            0            0         689   \n",
              "1  ...         3272         3455         3261            0        1000   \n",
              "2  ...        14331        14948        15549         1518        1500   \n",
              "3  ...        28314        28959        29547         2000        2019   \n",
              "4  ...        20940        19146        19131         2000       36681   \n",
              "\n",
              "0 PAY_AMT_JUL PAY_AMT_JUN PAY_AMT_MAY PAY_AMT_APR default  \n",
              "0           0           0           0           0       1  \n",
              "1        1000        1000           0        2000       1  \n",
              "2        1000        1000        1000        5000       0  \n",
              "3        1200        1100        1069        1000       0  \n",
              "4       10000        9000         689         679       0  \n",
              "\n",
              "[5 rows x 25 columns]"
            ],
            "text/html": [
              "\n",
              "  <div id=\"df-627301a6-0173-4fea-b223-870d00d18aef\">\n",
              "    <div class=\"colab-df-container\">\n",
              "      <div>\n",
              "<style scoped>\n",
              "    .dataframe tbody tr th:only-of-type {\n",
              "        vertical-align: middle;\n",
              "    }\n",
              "\n",
              "    .dataframe tbody tr th {\n",
              "        vertical-align: top;\n",
              "    }\n",
              "\n",
              "    .dataframe thead th {\n",
              "        text-align: right;\n",
              "    }\n",
              "</style>\n",
              "<table border=\"1\" class=\"dataframe\">\n",
              "  <thead>\n",
              "    <tr style=\"text-align: right;\">\n",
              "      <th></th>\n",
              "      <th>ID</th>\n",
              "      <th>LIMIT_BAL</th>\n",
              "      <th>SEX</th>\n",
              "      <th>EDUCATION</th>\n",
              "      <th>MARRIAGE</th>\n",
              "      <th>AGE</th>\n",
              "      <th>PAY_SEPT</th>\n",
              "      <th>PAY_AUG</th>\n",
              "      <th>PAY_JUL</th>\n",
              "      <th>PAY_JUN</th>\n",
              "      <th>...</th>\n",
              "      <th>BILL_AMT_JUN</th>\n",
              "      <th>BILL_AMT_MAY</th>\n",
              "      <th>BILL_AMT_APR</th>\n",
              "      <th>PAY_AMT_SEPT</th>\n",
              "      <th>PAY_AMT_AUG</th>\n",
              "      <th>PAY_AMT_JUL</th>\n",
              "      <th>PAY_AMT_JUN</th>\n",
              "      <th>PAY_AMT_MAY</th>\n",
              "      <th>PAY_AMT_APR</th>\n",
              "      <th>default</th>\n",
              "    </tr>\n",
              "  </thead>\n",
              "  <tbody>\n",
              "    <tr>\n",
              "      <th>0</th>\n",
              "      <td>1</td>\n",
              "      <td>20000</td>\n",
              "      <td>2</td>\n",
              "      <td>2</td>\n",
              "      <td>1</td>\n",
              "      <td>24</td>\n",
              "      <td>2</td>\n",
              "      <td>2</td>\n",
              "      <td>-1</td>\n",
              "      <td>-1</td>\n",
              "      <td>...</td>\n",
              "      <td>0</td>\n",
              "      <td>0</td>\n",
              "      <td>0</td>\n",
              "      <td>0</td>\n",
              "      <td>689</td>\n",
              "      <td>0</td>\n",
              "      <td>0</td>\n",
              "      <td>0</td>\n",
              "      <td>0</td>\n",
              "      <td>1</td>\n",
              "    </tr>\n",
              "    <tr>\n",
              "      <th>1</th>\n",
              "      <td>2</td>\n",
              "      <td>120000</td>\n",
              "      <td>2</td>\n",
              "      <td>2</td>\n",
              "      <td>2</td>\n",
              "      <td>26</td>\n",
              "      <td>-1</td>\n",
              "      <td>2</td>\n",
              "      <td>0</td>\n",
              "      <td>0</td>\n",
              "      <td>...</td>\n",
              "      <td>3272</td>\n",
              "      <td>3455</td>\n",
              "      <td>3261</td>\n",
              "      <td>0</td>\n",
              "      <td>1000</td>\n",
              "      <td>1000</td>\n",
              "      <td>1000</td>\n",
              "      <td>0</td>\n",
              "      <td>2000</td>\n",
              "      <td>1</td>\n",
              "    </tr>\n",
              "    <tr>\n",
              "      <th>2</th>\n",
              "      <td>3</td>\n",
              "      <td>90000</td>\n",
              "      <td>2</td>\n",
              "      <td>2</td>\n",
              "      <td>2</td>\n",
              "      <td>34</td>\n",
              "      <td>0</td>\n",
              "      <td>0</td>\n",
              "      <td>0</td>\n",
              "      <td>0</td>\n",
              "      <td>...</td>\n",
              "      <td>14331</td>\n",
              "      <td>14948</td>\n",
              "      <td>15549</td>\n",
              "      <td>1518</td>\n",
              "      <td>1500</td>\n",
              "      <td>1000</td>\n",
              "      <td>1000</td>\n",
              "      <td>1000</td>\n",
              "      <td>5000</td>\n",
              "      <td>0</td>\n",
              "    </tr>\n",
              "    <tr>\n",
              "      <th>3</th>\n",
              "      <td>4</td>\n",
              "      <td>50000</td>\n",
              "      <td>2</td>\n",
              "      <td>2</td>\n",
              "      <td>1</td>\n",
              "      <td>37</td>\n",
              "      <td>0</td>\n",
              "      <td>0</td>\n",
              "      <td>0</td>\n",
              "      <td>0</td>\n",
              "      <td>...</td>\n",
              "      <td>28314</td>\n",
              "      <td>28959</td>\n",
              "      <td>29547</td>\n",
              "      <td>2000</td>\n",
              "      <td>2019</td>\n",
              "      <td>1200</td>\n",
              "      <td>1100</td>\n",
              "      <td>1069</td>\n",
              "      <td>1000</td>\n",
              "      <td>0</td>\n",
              "    </tr>\n",
              "    <tr>\n",
              "      <th>4</th>\n",
              "      <td>5</td>\n",
              "      <td>50000</td>\n",
              "      <td>1</td>\n",
              "      <td>2</td>\n",
              "      <td>1</td>\n",
              "      <td>57</td>\n",
              "      <td>-1</td>\n",
              "      <td>0</td>\n",
              "      <td>-1</td>\n",
              "      <td>0</td>\n",
              "      <td>...</td>\n",
              "      <td>20940</td>\n",
              "      <td>19146</td>\n",
              "      <td>19131</td>\n",
              "      <td>2000</td>\n",
              "      <td>36681</td>\n",
              "      <td>10000</td>\n",
              "      <td>9000</td>\n",
              "      <td>689</td>\n",
              "      <td>679</td>\n",
              "      <td>0</td>\n",
              "    </tr>\n",
              "  </tbody>\n",
              "</table>\n",
              "<p>5 rows × 25 columns</p>\n",
              "</div>\n",
              "      <button class=\"colab-df-convert\" onclick=\"convertToInteractive('df-627301a6-0173-4fea-b223-870d00d18aef')\"\n",
              "              title=\"Convert this dataframe to an interactive table.\"\n",
              "              style=\"display:none;\">\n",
              "        \n",
              "  <svg xmlns=\"http://www.w3.org/2000/svg\" height=\"24px\"viewBox=\"0 0 24 24\"\n",
              "       width=\"24px\">\n",
              "    <path d=\"M0 0h24v24H0V0z\" fill=\"none\"/>\n",
              "    <path d=\"M18.56 5.44l.94 2.06.94-2.06 2.06-.94-2.06-.94-.94-2.06-.94 2.06-2.06.94zm-11 1L8.5 8.5l.94-2.06 2.06-.94-2.06-.94L8.5 2.5l-.94 2.06-2.06.94zm10 10l.94 2.06.94-2.06 2.06-.94-2.06-.94-.94-2.06-.94 2.06-2.06.94z\"/><path d=\"M17.41 7.96l-1.37-1.37c-.4-.4-.92-.59-1.43-.59-.52 0-1.04.2-1.43.59L10.3 9.45l-7.72 7.72c-.78.78-.78 2.05 0 2.83L4 21.41c.39.39.9.59 1.41.59.51 0 1.02-.2 1.41-.59l7.78-7.78 2.81-2.81c.8-.78.8-2.07 0-2.86zM5.41 20L4 18.59l7.72-7.72 1.47 1.35L5.41 20z\"/>\n",
              "  </svg>\n",
              "      </button>\n",
              "      \n",
              "  <style>\n",
              "    .colab-df-container {\n",
              "      display:flex;\n",
              "      flex-wrap:wrap;\n",
              "      gap: 12px;\n",
              "    }\n",
              "\n",
              "    .colab-df-convert {\n",
              "      background-color: #E8F0FE;\n",
              "      border: none;\n",
              "      border-radius: 50%;\n",
              "      cursor: pointer;\n",
              "      display: none;\n",
              "      fill: #1967D2;\n",
              "      height: 32px;\n",
              "      padding: 0 0 0 0;\n",
              "      width: 32px;\n",
              "    }\n",
              "\n",
              "    .colab-df-convert:hover {\n",
              "      background-color: #E2EBFA;\n",
              "      box-shadow: 0px 1px 2px rgba(60, 64, 67, 0.3), 0px 1px 3px 1px rgba(60, 64, 67, 0.15);\n",
              "      fill: #174EA6;\n",
              "    }\n",
              "\n",
              "    [theme=dark] .colab-df-convert {\n",
              "      background-color: #3B4455;\n",
              "      fill: #D2E3FC;\n",
              "    }\n",
              "\n",
              "    [theme=dark] .colab-df-convert:hover {\n",
              "      background-color: #434B5C;\n",
              "      box-shadow: 0px 1px 3px 1px rgba(0, 0, 0, 0.15);\n",
              "      filter: drop-shadow(0px 1px 2px rgba(0, 0, 0, 0.3));\n",
              "      fill: #FFFFFF;\n",
              "    }\n",
              "  </style>\n",
              "\n",
              "      <script>\n",
              "        const buttonEl =\n",
              "          document.querySelector('#df-627301a6-0173-4fea-b223-870d00d18aef button.colab-df-convert');\n",
              "        buttonEl.style.display =\n",
              "          google.colab.kernel.accessAllowed ? 'block' : 'none';\n",
              "\n",
              "        async function convertToInteractive(key) {\n",
              "          const element = document.querySelector('#df-627301a6-0173-4fea-b223-870d00d18aef');\n",
              "          const dataTable =\n",
              "            await google.colab.kernel.invokeFunction('convertToInteractive',\n",
              "                                                     [key], {});\n",
              "          if (!dataTable) return;\n",
              "\n",
              "          const docLinkHtml = 'Like what you see? Visit the ' +\n",
              "            '<a target=\"_blank\" href=https://colab.research.google.com/notebooks/data_table.ipynb>data table notebook</a>'\n",
              "            + ' to learn more about interactive tables.';\n",
              "          element.innerHTML = '';\n",
              "          dataTable['output_type'] = 'display_data';\n",
              "          await google.colab.output.renderOutput(dataTable, element);\n",
              "          const docLink = document.createElement('div');\n",
              "          docLink.innerHTML = docLinkHtml;\n",
              "          element.appendChild(docLink);\n",
              "        }\n",
              "      </script>\n",
              "    </div>\n",
              "  </div>\n",
              "  "
            ]
          },
          "metadata": {},
          "execution_count": 20
        }
      ]
    },
    {
      "cell_type": "markdown",
      "source": [
        "Correcting columns with unknown values and replacing them accordingly."
      ],
      "metadata": {
        "id": "jDsW_R7C9hej"
      }
    },
    {
      "cell_type": "code",
      "source": [
        "#Replacing the value that is unknown to others category\n",
        "df[\"EDUCATION\"].replace({0:4,5:4,6:4},inplace=True)\n",
        "df['EDUCATION'].unique()"
      ],
      "metadata": {
        "colab": {
          "base_uri": "https://localhost:8080/"
        },
        "id": "xOySWIRA9g5r",
        "outputId": "b815a9c6-fc02-44ce-de1c-dc2706d9b02a"
      },
      "execution_count": null,
      "outputs": [
        {
          "output_type": "execute_result",
          "data": {
            "text/plain": [
              "array([2, 1, 3, 4])"
            ]
          },
          "metadata": {},
          "execution_count": 21
        }
      ]
    },
    {
      "cell_type": "code",
      "source": [
        "#Replacing the value that is unknown to others category\n",
        "df[\"MARRIAGE\"].replace({0:3},inplace=True)\n",
        "df['MARRIAGE'].unique()"
      ],
      "metadata": {
        "colab": {
          "base_uri": "https://localhost:8080/"
        },
        "id": "T40ECbsp94yA",
        "outputId": "f194b18c-d7f8-4523-e5d9-098c96000e83"
      },
      "execution_count": null,
      "outputs": [
        {
          "output_type": "execute_result",
          "data": {
            "text/plain": [
              "array([1, 2, 3])"
            ]
          },
          "metadata": {},
          "execution_count": 22
        }
      ]
    },
    {
      "cell_type": "markdown",
      "source": [
        "Changing ting the datatypes to integer only"
      ],
      "metadata": {
        "id": "GwhutrlG9_NF"
      }
    },
    {
      "cell_type": "code",
      "source": [
        "#converting all columns to int data type\n",
        "df = df.apply(pd.to_numeric, errors='coerce')"
      ],
      "metadata": {
        "id": "CVzYeA22-Gw-"
      },
      "execution_count": null,
      "outputs": []
    },
    {
      "cell_type": "code",
      "source": [
        "# Checking the datatypes\n",
        "df.info()"
      ],
      "metadata": {
        "colab": {
          "base_uri": "https://localhost:8080/"
        },
        "id": "RCtoeepH-LQ2",
        "outputId": "75240023-b0f8-414c-886e-e18518d38862"
      },
      "execution_count": null,
      "outputs": [
        {
          "output_type": "stream",
          "name": "stdout",
          "text": [
            "<class 'pandas.core.frame.DataFrame'>\n",
            "RangeIndex: 30000 entries, 0 to 29999\n",
            "Data columns (total 25 columns):\n",
            " #   Column         Non-Null Count  Dtype\n",
            "---  ------         --------------  -----\n",
            " 0   ID             30000 non-null  int64\n",
            " 1   LIMIT_BAL      30000 non-null  int64\n",
            " 2   SEX            30000 non-null  int64\n",
            " 3   EDUCATION      30000 non-null  int64\n",
            " 4   MARRIAGE       30000 non-null  int64\n",
            " 5   AGE            30000 non-null  int64\n",
            " 6   PAY_SEPT       30000 non-null  int64\n",
            " 7   PAY_AUG        30000 non-null  int64\n",
            " 8   PAY_JUL        30000 non-null  int64\n",
            " 9   PAY_JUN        30000 non-null  int64\n",
            " 10  PAY_MAY        30000 non-null  int64\n",
            " 11  PAY_APR        30000 non-null  int64\n",
            " 12  BILL_AMT_SEPT  30000 non-null  int64\n",
            " 13  BILL_AMT_AUG   30000 non-null  int64\n",
            " 14  BILL_AMT_JUL   30000 non-null  int64\n",
            " 15  BILL_AMT_JUN   30000 non-null  int64\n",
            " 16  BILL_AMT_MAY   30000 non-null  int64\n",
            " 17  BILL_AMT_APR   30000 non-null  int64\n",
            " 18  PAY_AMT_SEPT   30000 non-null  int64\n",
            " 19  PAY_AMT_AUG    30000 non-null  int64\n",
            " 20  PAY_AMT_JUL    30000 non-null  int64\n",
            " 21  PAY_AMT_JUN    30000 non-null  int64\n",
            " 22  PAY_AMT_MAY    30000 non-null  int64\n",
            " 23  PAY_AMT_APR    30000 non-null  int64\n",
            " 24  default        30000 non-null  int64\n",
            "dtypes: int64(25)\n",
            "memory usage: 5.7 MB\n"
          ]
        }
      ]
    },
    {
      "cell_type": "markdown",
      "source": [
        "### What all manipulations have you done and insights you found?"
      ],
      "metadata": {
        "id": "MSa1f5Uengrz"
      }
    },
    {
      "cell_type": "markdown",
      "source": [
        "1. Renamed the column names to understandable names.\n",
        "2. Replaced unknown education categories to others.\n",
        "3. Replaced unknown marriage categories to others.\n",
        "4. Changes the datatypes to integer only."
      ],
      "metadata": {
        "id": "LbyXE7I1olp8"
      }
    },
    {
      "cell_type": "markdown",
      "source": [
        "## ***4. Data Vizualization, Storytelling & Experimenting with charts : Understand the relationships between variables***"
      ],
      "metadata": {
        "id": "GF8Ens_Soomf"
      }
    },
    {
      "cell_type": "markdown",
      "source": [
        "#### Chart - 1 Checking the gender distribution"
      ],
      "metadata": {
        "id": "0wOQAZs5pc--"
      }
    },
    {
      "cell_type": "code",
      "source": [
        "df['SEX'].value_counts()"
      ],
      "metadata": {
        "colab": {
          "base_uri": "https://localhost:8080/"
        },
        "id": "1zPis28NBuk2",
        "outputId": "ac02d910-67b0-4b5a-8f74-bce14b1bd5d3"
      },
      "execution_count": null,
      "outputs": [
        {
          "output_type": "execute_result",
          "data": {
            "text/plain": [
              "2    18112\n",
              "1    11888\n",
              "Name: SEX, dtype: int64"
            ]
          },
          "metadata": {},
          "execution_count": 32
        }
      ]
    },
    {
      "cell_type": "code",
      "source": [
        "# Chart - 1 visualization code\n",
        "plt.figure(figsize = (6,4))\n",
        "plt.pie(x= df['SEX'].value_counts(),explode=(0.1,0.0), colors = ['grey', 'cyan'], autopct='%1.1f%%', shadow=True,startangle = 145,labels = ['2','1'])\n",
        "plt.show()"
      ],
      "metadata": {
        "id": "7v_ESjsspbW7",
        "colab": {
          "base_uri": "https://localhost:8080/",
          "height": 345
        },
        "outputId": "a648a7cd-6816-4538-a445-9de7c5b0334c"
      },
      "execution_count": null,
      "outputs": [
        {
          "output_type": "display_data",
          "data": {
            "text/plain": [
              "<Figure size 600x400 with 1 Axes>"
            ],
            "image/png": "[encoded data removed]"
          },
          "metadata": {}
        }
      ]
    },
    {
      "cell_type": "markdown",
      "source": [
        "##### 1. Why did you pick the specific chart?"
      ],
      "metadata": {
        "id": "K5QZ13OEpz2H"
      }
    },
    {
      "cell_type": "markdown",
      "source": [
        "It shows the clearly the percentage of gender distribution."
      ],
      "metadata": {
        "id": "XESiWehPqBRc"
      }
    },
    {
      "cell_type": "markdown",
      "source": [
        "##### 2. What is/are the insight(s) found from the chart?"
      ],
      "metadata": {
        "id": "lQ7QKXXCp7Bj"
      }
    },
    {
      "cell_type": "markdown",
      "source": [
        "Gender type 2 is 60.4% and the rest is gender type 1."
      ],
      "metadata": {
        "id": "C_j1G7yiqdRP"
      }
    },
    {
      "cell_type": "markdown",
      "source": [
        "##### 3. Will the gained insights help creating a positive business impact? \n",
        "Are there any insights that lead to negative growth? Justify with specific reason."
      ],
      "metadata": {
        "id": "448CDAPjqfQr"
      }
    },
    {
      "cell_type": "markdown",
      "source": [
        "This insight will help the company understand which gender is using their product more than the other gender."
      ],
      "metadata": {
        "id": "3cspy4FjqxJW"
      }
    },
    {
      "cell_type": "markdown",
      "source": [
        "#### Chart - 2"
      ],
      "metadata": {
        "id": "KSlN3yHqYklG"
      }
    },
    {
      "cell_type": "code",
      "source": [
        "# Chart - 2 visualization code"
      ],
      "metadata": {
        "id": "R4YgtaqtYklH"
      },
      "execution_count": null,
      "outputs": []
    },
    {
      "cell_type": "markdown",
      "source": [
        "##### 1. Why did you pick the specific chart?"
      ],
      "metadata": {
        "id": "t6dVpIINYklI"
      }
    },
    {
      "cell_type": "markdown",
      "source": [
        "Answer Here."
      ],
      "metadata": {
        "id": "5aaW0BYyYklI"
      }
    },
    {
      "cell_type": "markdown",
      "source": [
        "##### 2. What is/are the insight(s) found from the chart?"
      ],
      "metadata": {
        "id": "ijmpgYnKYklI"
      }
    },
    {
      "cell_type": "markdown",
      "source": [
        "Answer Here"
      ],
      "metadata": {
        "id": "PSx9atu2YklI"
      }
    },
    {
      "cell_type": "markdown",
      "source": [
        "##### 3. Will the gained insights help creating a positive business impact? \n",
        "Are there any insights that lead to negative growth? Justify with specific reason."
      ],
      "metadata": {
        "id": "-JiQyfWJYklI"
      }
    },
    {
      "cell_type": "markdown",
      "source": [
        "Answer Here"
      ],
      "metadata": {
        "id": "BcBbebzrYklV"
      }
    },
    {
      "cell_type": "markdown",
      "source": [
        "#### Chart - 3"
      ],
      "metadata": {
        "id": "EM7whBJCYoAo"
      }
    },
    {
      "cell_type": "code",
      "source": [
        "# Chart - 3 visualization code"
      ],
      "metadata": {
        "id": "t6GMdE67YoAp"
      },
      "execution_count": null,
      "outputs": []
    },
    {
      "cell_type": "markdown",
      "source": [
        "##### 1. Why did you pick the specific chart?"
      ],
      "metadata": {
        "id": "fge-S5ZAYoAp"
      }
    },
    {
      "cell_type": "markdown",
      "source": [
        "Answer Here."
      ],
      "metadata": {
        "id": "5dBItgRVYoAp"
      }
    },
    {
      "cell_type": "markdown",
      "source": [
        "##### 2. What is/are the insight(s) found from the chart?"
      ],
      "metadata": {
        "id": "85gYPyotYoAp"
      }
    },
    {
      "cell_type": "markdown",
      "source": [
        "Answer Here"
      ],
      "metadata": {
        "id": "4jstXR6OYoAp"
      }
    },
    {
      "cell_type": "markdown",
      "source": [
        "##### 3. Will the gained insights help creating a positive business impact? \n",
        "Are there any insights that lead to negative growth? Justify with specific reason."
      ],
      "metadata": {
        "id": "RoGjAbkUYoAp"
      }
    },
    {
      "cell_type": "markdown",
      "source": [
        "Answer Here"
      ],
      "metadata": {
        "id": "zfJ8IqMcYoAp"
      }
    },
    {
      "cell_type": "markdown",
      "source": [
        "#### Chart - 4"
      ],
      "metadata": {
        "id": "4Of9eVA-YrdM"
      }
    },
    {
      "cell_type": "code",
      "source": [
        "# Chart - 4 visualization code"
      ],
      "metadata": {
        "id": "irlUoxc8YrdO"
      },
      "execution_count": null,
      "outputs": []
    },
    {
      "cell_type": "markdown",
      "source": [
        "##### 1. Why did you pick the specific chart?"
      ],
      "metadata": {
        "id": "iky9q4vBYrdO"
      }
    },
    {
      "cell_type": "markdown",
      "source": [
        "Answer Here."
      ],
      "metadata": {
        "id": "aJRCwT6DYrdO"
      }
    },
    {
      "cell_type": "markdown",
      "source": [
        "##### 2. What is/are the insight(s) found from the chart?"
      ],
      "metadata": {
        "id": "F6T5p64dYrdO"
      }
    },
    {
      "cell_type": "markdown",
      "source": [
        "Answer Here"
      ],
      "metadata": {
        "id": "Xx8WAJvtYrdO"
      }
    },
    {
      "cell_type": "markdown",
      "source": [
        "##### 3. Will the gained insights help creating a positive business impact? \n",
        "Are there any insights that lead to negative growth? Justify with specific reason."
      ],
      "metadata": {
        "id": "y-Ehk30pYrdP"
      }
    },
    {
      "cell_type": "markdown",
      "source": [
        "Answer Here"
      ],
      "metadata": {
        "id": "jLNxxz7MYrdP"
      }
    },
    {
      "cell_type": "markdown",
      "source": [
        "#### Chart - 5"
      ],
      "metadata": {
        "id": "bamQiAODYuh1"
      }
    },
    {
      "cell_type": "code",
      "source": [
        "# Chart - 5 visualization code"
      ],
      "metadata": {
        "id": "TIJwrbroYuh3"
      },
      "execution_count": null,
      "outputs": []
    },
    {
      "cell_type": "markdown",
      "source": [
        "##### 1. Why did you pick the specific chart?"
      ],
      "metadata": {
        "id": "QHF8YVU7Yuh3"
      }
    },
    {
      "cell_type": "markdown",
      "source": [
        "Answer Here."
      ],
      "metadata": {
        "id": "dcxuIMRPYuh3"
      }
    },
    {
      "cell_type": "markdown",
      "source": [
        "##### 2. What is/are the insight(s) found from the chart?"
      ],
      "metadata": {
        "id": "GwzvFGzlYuh3"
      }
    },
    {
      "cell_type": "markdown",
      "source": [
        "Answer Here"
      ],
      "metadata": {
        "id": "uyqkiB8YYuh3"
      }
    },
    {
      "cell_type": "markdown",
      "source": [
        "##### 3. Will the gained insights help creating a positive business impact? \n",
        "Are there any insights that lead to negative growth? Justify with specific reason."
      ],
      "metadata": {
        "id": "qYpmQ266Yuh3"
      }
    },
    {
      "cell_type": "markdown",
      "source": [
        "Answer Here"
      ],
      "metadata": {
        "id": "_WtzZ_hCYuh4"
      }
    },
    {
      "cell_type": "markdown",
      "source": [
        "#### Chart - 6"
      ],
      "metadata": {
        "id": "OH-pJp9IphqM"
      }
    },
    {
      "cell_type": "code",
      "source": [
        "# Chart - 6 visualization code"
      ],
      "metadata": {
        "id": "kuRf4wtuphqN"
      },
      "execution_count": null,
      "outputs": []
    },
    {
      "cell_type": "markdown",
      "source": [
        "##### 1. Why did you pick the specific chart?"
      ],
      "metadata": {
        "id": "bbFf2-_FphqN"
      }
    },
    {
      "cell_type": "markdown",
      "source": [
        "Answer Here."
      ],
      "metadata": {
        "id": "loh7H2nzphqN"
      }
    },
    {
      "cell_type": "markdown",
      "source": [
        "##### 2. What is/are the insight(s) found from the chart?"
      ],
      "metadata": {
        "id": "_ouA3fa0phqN"
      }
    },
    {
      "cell_type": "markdown",
      "source": [
        "Answer Here"
      ],
      "metadata": {
        "id": "VECbqPI7phqN"
      }
    },
    {
      "cell_type": "markdown",
      "source": [
        "##### 3. Will the gained insights help creating a positive business impact? \n",
        "Are there any insights that lead to negative growth? Justify with specific reason."
      ],
      "metadata": {
        "id": "Seke61FWphqN"
      }
    },
    {
      "cell_type": "markdown",
      "source": [
        "Answer Here"
      ],
      "metadata": {
        "id": "DW4_bGpfphqN"
      }
    },
    {
      "cell_type": "markdown",
      "source": [
        "#### Chart - 7"
      ],
      "metadata": {
        "id": "PIIx-8_IphqN"
      }
    },
    {
      "cell_type": "code",
      "source": [
        "# Chart - 7 visualization code"
      ],
      "metadata": {
        "id": "lqAIGUfyphqO"
      },
      "execution_count": null,
      "outputs": []
    },
    {
      "cell_type": "markdown",
      "source": [
        "##### 1. Why did you pick the specific chart?"
      ],
      "metadata": {
        "id": "t27r6nlMphqO"
      }
    },
    {
      "cell_type": "markdown",
      "source": [
        "Answer Here."
      ],
      "metadata": {
        "id": "iv6ro40sphqO"
      }
    },
    {
      "cell_type": "markdown",
      "source": [
        "##### 2. What is/are the insight(s) found from the chart?"
      ],
      "metadata": {
        "id": "r2jJGEOYphqO"
      }
    },
    {
      "cell_type": "markdown",
      "source": [
        "Answer Here"
      ],
      "metadata": {
        "id": "Po6ZPi4hphqO"
      }
    },
    {
      "cell_type": "markdown",
      "source": [
        "##### 3. Will the gained insights help creating a positive business impact? \n",
        "Are there any insights that lead to negative growth? Justify with specific reason."
      ],
      "metadata": {
        "id": "b0JNsNcRphqO"
      }
    },
    {
      "cell_type": "markdown",
      "source": [
        "Answer Here"
      ],
      "metadata": {
        "id": "xvSq8iUTphqO"
      }
    },
    {
      "cell_type": "markdown",
      "source": [
        "#### Chart - 8"
      ],
      "metadata": {
        "id": "BZR9WyysphqO"
      }
    },
    {
      "cell_type": "code",
      "source": [
        "# Chart - 8 visualization code"
      ],
      "metadata": {
        "id": "TdPTWpAVphqO"
      },
      "execution_count": null,
      "outputs": []
    },
    {
      "cell_type": "markdown",
      "source": [
        "##### 1. Why did you pick the specific chart?"
      ],
      "metadata": {
        "id": "jj7wYXLtphqO"
      }
    },
    {
      "cell_type": "markdown",
      "source": [
        "Answer Here."
      ],
      "metadata": {
        "id": "Ob8u6rCTphqO"
      }
    },
    {
      "cell_type": "markdown",
      "source": [
        "##### 2. What is/are the insight(s) found from the chart?"
      ],
      "metadata": {
        "id": "eZrbJ2SmphqO"
      }
    },
    {
      "cell_type": "markdown",
      "source": [
        "Answer Here"
      ],
      "metadata": {
        "id": "mZtgC_hjphqO"
      }
    },
    {
      "cell_type": "markdown",
      "source": [
        "##### 3. Will the gained insights help creating a positive business impact? \n",
        "Are there any insights that lead to negative growth? Justify with specific reason."
      ],
      "metadata": {
        "id": "rFu4xreNphqO"
      }
    },
    {
      "cell_type": "markdown",
      "source": [
        "Answer Here"
      ],
      "metadata": {
        "id": "ey_0qi68phqO"
      }
    },
    {
      "cell_type": "markdown",
      "source": [
        "#### Chart - 9"
      ],
      "metadata": {
        "id": "YJ55k-q6phqO"
      }
    },
    {
      "cell_type": "code",
      "source": [
        "# Chart - 9 visualization code"
      ],
      "metadata": {
        "id": "B2aS4O1ophqO"
      },
      "execution_count": null,
      "outputs": []
    },
    {
      "cell_type": "markdown",
      "source": [
        "##### 1. Why did you pick the specific chart?"
      ],
      "metadata": {
        "id": "gCFgpxoyphqP"
      }
    },
    {
      "cell_type": "markdown",
      "source": [
        "Answer Here."
      ],
      "metadata": {
        "id": "TVxDimi2phqP"
      }
    },
    {
      "cell_type": "markdown",
      "source": [
        "##### 2. What is/are the insight(s) found from the chart?"
      ],
      "metadata": {
        "id": "OVtJsKN_phqQ"
      }
    },
    {
      "cell_type": "markdown",
      "source": [
        "Answer Here"
      ],
      "metadata": {
        "id": "ngGi97qjphqQ"
      }
    },
    {
      "cell_type": "markdown",
      "source": [
        "##### 3. Will the gained insights help creating a positive business impact? \n",
        "Are there any insights that lead to negative growth? Justify with specific reason."
      ],
      "metadata": {
        "id": "lssrdh5qphqQ"
      }
    },
    {
      "cell_type": "markdown",
      "source": [
        "Answer Here"
      ],
      "metadata": {
        "id": "tBpY5ekJphqQ"
      }
    },
    {
      "cell_type": "markdown",
      "source": [
        "#### Chart - 10"
      ],
      "metadata": {
        "id": "U2RJ9gkRphqQ"
      }
    },
    {
      "cell_type": "code",
      "source": [
        "# Chart - 10 visualization code"
      ],
      "metadata": {
        "id": "GM7a4YP4phqQ"
      },
      "execution_count": null,
      "outputs": []
    },
    {
      "cell_type": "markdown",
      "source": [
        "##### 1. Why did you pick the specific chart?"
      ],
      "metadata": {
        "id": "1M8mcRywphqQ"
      }
    },
    {
      "cell_type": "markdown",
      "source": [
        "Answer Here."
      ],
      "metadata": {
        "id": "8agQvks0phqQ"
      }
    },
    {
      "cell_type": "markdown",
      "source": [
        "##### 2. What is/are the insight(s) found from the chart?"
      ],
      "metadata": {
        "id": "tgIPom80phqQ"
      }
    },
    {
      "cell_type": "markdown",
      "source": [
        "Answer Here"
      ],
      "metadata": {
        "id": "Qp13pnNzphqQ"
      }
    },
    {
      "cell_type": "markdown",
      "source": [
        "##### 3. Will the gained insights help creating a positive business impact? \n",
        "Are there any insights that lead to negative growth? Justify with specific reason."
      ],
      "metadata": {
        "id": "JMzcOPDDphqR"
      }
    },
    {
      "cell_type": "markdown",
      "source": [
        "Answer Here"
      ],
      "metadata": {
        "id": "R4Ka1PC2phqR"
      }
    },
    {
      "cell_type": "markdown",
      "source": [
        "#### Chart - 11"
      ],
      "metadata": {
        "id": "x-EpHcCOp1ci"
      }
    },
    {
      "cell_type": "code",
      "source": [
        "# Chart - 11 visualization code"
      ],
      "metadata": {
        "id": "mAQTIvtqp1cj"
      },
      "execution_count": null,
      "outputs": []
    },
    {
      "cell_type": "markdown",
      "source": [
        "##### 1. Why did you pick the specific chart?"
      ],
      "metadata": {
        "id": "X_VqEhTip1ck"
      }
    },
    {
      "cell_type": "markdown",
      "source": [
        "Answer Here."
      ],
      "metadata": {
        "id": "-vsMzt_np1ck"
      }
    },
    {
      "cell_type": "markdown",
      "source": [
        "##### 2. What is/are the insight(s) found from the chart?"
      ],
      "metadata": {
        "id": "8zGJKyg5p1ck"
      }
    },
    {
      "cell_type": "markdown",
      "source": [
        "Answer Here"
      ],
      "metadata": {
        "id": "ZYdMsrqVp1ck"
      }
    },
    {
      "cell_type": "markdown",
      "source": [
        "##### 3. Will the gained insights help creating a positive business impact? \n",
        "Are there any insights that lead to negative growth? Justify with specific reason."
      ],
      "metadata": {
        "id": "PVzmfK_Ep1ck"
      }
    },
    {
      "cell_type": "markdown",
      "source": [
        "Answer Here"
      ],
      "metadata": {
        "id": "druuKYZpp1ck"
      }
    },
    {
      "cell_type": "markdown",
      "source": [
        "#### Chart - 12"
      ],
      "metadata": {
        "id": "n3dbpmDWp1ck"
      }
    },
    {
      "cell_type": "code",
      "source": [
        "# Chart - 12 visualization code"
      ],
      "metadata": {
        "id": "bwevp1tKp1ck"
      },
      "execution_count": null,
      "outputs": []
    },
    {
      "cell_type": "markdown",
      "source": [
        "##### 1. Why did you pick the specific chart?"
      ],
      "metadata": {
        "id": "ylSl6qgtp1ck"
      }
    },
    {
      "cell_type": "markdown",
      "source": [
        "Answer Here."
      ],
      "metadata": {
        "id": "m2xqNkiQp1ck"
      }
    },
    {
      "cell_type": "markdown",
      "source": [
        "##### 2. What is/are the insight(s) found from the chart?"
      ],
      "metadata": {
        "id": "ZWILFDl5p1ck"
      }
    },
    {
      "cell_type": "markdown",
      "source": [
        "Answer Here"
      ],
      "metadata": {
        "id": "x-lUsV2mp1ck"
      }
    },
    {
      "cell_type": "markdown",
      "source": [
        "##### 3. Will the gained insights help creating a positive business impact? \n",
        "Are there any insights that lead to negative growth? Justify with specific reason."
      ],
      "metadata": {
        "id": "M7G43BXep1ck"
      }
    },
    {
      "cell_type": "markdown",
      "source": [
        "Answer Here"
      ],
      "metadata": {
        "id": "5wwDJXsLp1cl"
      }
    },
    {
      "cell_type": "markdown",
      "source": [
        "#### Chart - 13"
      ],
      "metadata": {
        "id": "Ag9LCva-p1cl"
      }
    },
    {
      "cell_type": "code",
      "source": [
        "# Chart - 13 visualization code"
      ],
      "metadata": {
        "id": "EUfxeq9-p1cl"
      },
      "execution_count": null,
      "outputs": []
    },
    {
      "cell_type": "markdown",
      "source": [
        "##### 1. Why did you pick the specific chart?"
      ],
      "metadata": {
        "id": "E6MkPsBcp1cl"
      }
    },
    {
      "cell_type": "markdown",
      "source": [
        "Answer Here."
      ],
      "metadata": {
        "id": "V22bRsFWp1cl"
      }
    },
    {
      "cell_type": "markdown",
      "source": [
        "##### 2. What is/are the insight(s) found from the chart?"
      ],
      "metadata": {
        "id": "2cELzS2fp1cl"
      }
    },
    {
      "cell_type": "markdown",
      "source": [
        "Answer Here"
      ],
      "metadata": {
        "id": "ozQPc2_Ip1cl"
      }
    },
    {
      "cell_type": "markdown",
      "source": [
        "##### 3. Will the gained insights help creating a positive business impact? \n",
        "Are there any insights that lead to negative growth? Justify with specific reason."
      ],
      "metadata": {
        "id": "3MPXvC8up1cl"
      }
    },
    {
      "cell_type": "markdown",
      "source": [
        "Answer Here"
      ],
      "metadata": {
        "id": "GL8l1tdLp1cl"
      }
    },
    {
      "cell_type": "markdown",
      "source": [
        "#### Chart - 14 - Correlation Heatmap"
      ],
      "metadata": {
        "id": "NC_X3p0fY2L0"
      }
    },
    {
      "cell_type": "code",
      "source": [
        "# Correlation Heatmap visualization code"
      ],
      "metadata": {
        "id": "xyC9zolEZNRQ"
      },
      "execution_count": null,
      "outputs": []
    },
    {
      "cell_type": "markdown",
      "source": [
        "##### 1. Why did you pick the specific chart?"
      ],
      "metadata": {
        "id": "UV0SzAkaZNRQ"
      }
    },
    {
      "cell_type": "markdown",
      "source": [
        "Answer Here."
      ],
      "metadata": {
        "id": "DVPuT8LYZNRQ"
      }
    },
    {
      "cell_type": "markdown",
      "source": [
        "##### 2. What is/are the insight(s) found from the chart?"
      ],
      "metadata": {
        "id": "YPEH6qLeZNRQ"
      }
    },
    {
      "cell_type": "markdown",
      "source": [
        "Answer Here"
      ],
      "metadata": {
        "id": "bfSqtnDqZNRR"
      }
    },
    {
      "cell_type": "markdown",
      "source": [
        "#### Chart - 15 - Pair Plot "
      ],
      "metadata": {
        "id": "q29F0dvdveiT"
      }
    },
    {
      "cell_type": "code",
      "source": [
        "# Pair Plot visualization code"
      ],
      "metadata": {
        "id": "o58-TEIhveiU"
      },
      "execution_count": null,
      "outputs": []
    },
    {
      "cell_type": "markdown",
      "source": [
        "##### 1. Why did you pick the specific chart?"
      ],
      "metadata": {
        "id": "EXh0U9oCveiU"
      }
    },
    {
      "cell_type": "markdown",
      "source": [
        "Answer Here."
      ],
      "metadata": {
        "id": "eMmPjTByveiU"
      }
    },
    {
      "cell_type": "markdown",
      "source": [
        "##### 2. What is/are the insight(s) found from the chart?"
      ],
      "metadata": {
        "id": "22aHeOlLveiV"
      }
    },
    {
      "cell_type": "markdown",
      "source": [
        "Answer Here"
      ],
      "metadata": {
        "id": "uPQ8RGwHveiV"
      }
    },
    {
      "cell_type": "markdown",
      "source": [
        "## ***5. Hypothesis Testing***"
      ],
      "metadata": {
        "id": "g-ATYxFrGrvw"
      }
    },
    {
      "cell_type": "markdown",
      "source": [
        "### Based on your chart experiments, define three hypothetical statements from the dataset. In the next three questions, perform hypothesis testing to obtain final conclusion about the statements through your code and statistical testing."
      ],
      "metadata": {
        "id": "Yfr_Vlr8HBkt"
      }
    },
    {
      "cell_type": "markdown",
      "source": [
        "Answer Here."
      ],
      "metadata": {
        "id": "-7MS06SUHkB-"
      }
    },
    {
      "cell_type": "markdown",
      "source": [
        "### Hypothetical Statement - 1"
      ],
      "metadata": {
        "id": "8yEUt7NnHlrM"
      }
    },
    {
      "cell_type": "markdown",
      "source": [
        "#### 1. State Your research hypothesis as a null hypothesis and alternate hypothesis."
      ],
      "metadata": {
        "id": "tEA2Xm5dHt1r"
      }
    },
    {
      "cell_type": "markdown",
      "source": [
        "Answer Here."
      ],
      "metadata": {
        "id": "HI9ZP0laH0D-"
      }
    },
    {
      "cell_type": "markdown",
      "source": [
        "#### 2. Perform an appropriate statistical test."
      ],
      "metadata": {
        "id": "I79__PHVH19G"
      }
    },
    {
      "cell_type": "code",
      "source": [
        "# Perform Statistical Test to obtain P-Value"
      ],
      "metadata": {
        "id": "oZrfquKtyian"
      },
      "execution_count": null,
      "outputs": []
    },
    {
      "cell_type": "markdown",
      "source": [
        "##### Which statistical test have you done to obtain P-Value?"
      ],
      "metadata": {
        "id": "Ou-I18pAyIpj"
      }
    },
    {
      "cell_type": "markdown",
      "source": [
        "Answer Here."
      ],
      "metadata": {
        "id": "s2U0kk00ygSB"
      }
    },
    {
      "cell_type": "markdown",
      "source": [
        "##### Why did you choose the specific statistical test?"
      ],
      "metadata": {
        "id": "fF3858GYyt-u"
      }
    },
    {
      "cell_type": "markdown",
      "source": [
        "Answer Here."
      ],
      "metadata": {
        "id": "HO4K0gP5y3B4"
      }
    },
    {
      "cell_type": "markdown",
      "source": [
        "### Hypothetical Statement - 2"
      ],
      "metadata": {
        "id": "4_0_7-oCpUZd"
      }
    },
    {
      "cell_type": "markdown",
      "source": [
        "#### 1. State Your research hypothesis as a null hypothesis and alternate hypothesis."
      ],
      "metadata": {
        "id": "hwyV_J3ipUZe"
      }
    },
    {
      "cell_type": "markdown",
      "source": [
        "Answer Here."
      ],
      "metadata": {
        "id": "FnpLGJ-4pUZe"
      }
    },
    {
      "cell_type": "markdown",
      "source": [
        "#### 2. Perform an appropriate statistical test."
      ],
      "metadata": {
        "id": "3yB-zSqbpUZe"
      }
    },
    {
      "cell_type": "code",
      "source": [
        "# Perform Statistical Test to obtain P-Value"
      ],
      "metadata": {
        "id": "sWxdNTXNpUZe"
      },
      "execution_count": null,
      "outputs": []
    },
    {
      "cell_type": "markdown",
      "source": [
        "##### Which statistical test have you done to obtain P-Value?"
      ],
      "metadata": {
        "id": "dEUvejAfpUZe"
      }
    },
    {
      "cell_type": "markdown",
      "source": [
        "Answer Here."
      ],
      "metadata": {
        "id": "oLDrPz7HpUZf"
      }
    },
    {
      "cell_type": "markdown",
      "source": [
        "##### Why did you choose the specific statistical test?"
      ],
      "metadata": {
        "id": "Fd15vwWVpUZf"
      }
    },
    {
      "cell_type": "markdown",
      "source": [
        "Answer Here."
      ],
      "metadata": {
        "id": "4xOGYyiBpUZf"
      }
    },
    {
      "cell_type": "markdown",
      "source": [
        "### Hypothetical Statement - 3"
      ],
      "metadata": {
        "id": "bn_IUdTipZyH"
      }
    },
    {
      "cell_type": "markdown",
      "source": [
        "#### 1. State Your research hypothesis as a null hypothesis and alternate hypothesis."
      ],
      "metadata": {
        "id": "49K5P_iCpZyH"
      }
    },
    {
      "cell_type": "markdown",
      "source": [
        "Answer Here."
      ],
      "metadata": {
        "id": "7gWI5rT9pZyH"
      }
    },
    {
      "cell_type": "markdown",
      "source": [
        "#### 2. Perform an appropriate statistical test."
      ],
      "metadata": {
        "id": "Nff-vKELpZyI"
      }
    },
    {
      "cell_type": "code",
      "source": [
        "# Perform Statistical Test to obtain P-Value"
      ],
      "metadata": {
        "id": "s6AnJQjtpZyI"
      },
      "execution_count": null,
      "outputs": []
    },
    {
      "cell_type": "markdown",
      "source": [
        "##### Which statistical test have you done to obtain P-Value?"
      ],
      "metadata": {
        "id": "kLW572S8pZyI"
      }
    },
    {
      "cell_type": "markdown",
      "source": [
        "Answer Here."
      ],
      "metadata": {
        "id": "ytWJ8v15pZyI"
      }
    },
    {
      "cell_type": "markdown",
      "source": [
        "##### Why did you choose the specific statistical test?"
      ],
      "metadata": {
        "id": "dWbDXHzopZyI"
      }
    },
    {
      "cell_type": "markdown",
      "source": [
        "Answer Here."
      ],
      "metadata": {
        "id": "M99G98V6pZyI"
      }
    },
    {
      "cell_type": "markdown",
      "source": [
        "## ***6. Feature Engineering & Data Pre-processing***"
      ],
      "metadata": {
        "id": "yLjJCtPM0KBk"
      }
    },
    {
      "cell_type": "markdown",
      "source": [
        "### 1. Handling Missing Values"
      ],
      "metadata": {
        "id": "xiyOF9F70UgQ"
      }
    },
    {
      "cell_type": "code",
      "source": [
        "# Handling Missing Values & Missing Value Imputation"
      ],
      "metadata": {
        "id": "iRsAHk1K0fpS"
      },
      "execution_count": null,
      "outputs": []
    },
    {
      "cell_type": "markdown",
      "source": [
        "#### What all missing value imputation techniques have you used and why did you use those techniques?"
      ],
      "metadata": {
        "id": "7wuGOrhz0itI"
      }
    },
    {
      "cell_type": "markdown",
      "source": [
        "Answer Here."
      ],
      "metadata": {
        "id": "1ixusLtI0pqI"
      }
    },
    {
      "cell_type": "markdown",
      "source": [
        "### 2. Handling Outliers"
      ],
      "metadata": {
        "id": "id1riN9m0vUs"
      }
    },
    {
      "cell_type": "code",
      "source": [
        "# Handling Outliers & Outlier treatments"
      ],
      "metadata": {
        "id": "M6w2CzZf04JK"
      },
      "execution_count": null,
      "outputs": []
    },
    {
      "cell_type": "markdown",
      "source": [
        "##### What all outlier treatment techniques have you used and why did you use those techniques?"
      ],
      "metadata": {
        "id": "578E2V7j08f6"
      }
    },
    {
      "cell_type": "markdown",
      "source": [
        "Answer Here."
      ],
      "metadata": {
        "id": "uGZz5OrT1HH-"
      }
    },
    {
      "cell_type": "markdown",
      "source": [
        "### 3. Categorical Encoding"
      ],
      "metadata": {
        "id": "89xtkJwZ18nB"
      }
    },
    {
      "cell_type": "code",
      "source": [
        "# Encode your categorical columns"
      ],
      "metadata": {
        "id": "21JmIYMG2hEo"
      },
      "execution_count": null,
      "outputs": []
    },
    {
      "cell_type": "markdown",
      "source": [
        "#### What all categorical encoding techniques have you used & why did you use those techniques?"
      ],
      "metadata": {
        "id": "67NQN5KX2AMe"
      }
    },
    {
      "cell_type": "markdown",
      "source": [
        "Answer Here."
      ],
      "metadata": {
        "id": "UDaue5h32n_G"
      }
    },
    {
      "cell_type": "markdown",
      "source": [
        "### 4. Textual Data Preprocessing \n",
        "(It's mandatory for textual dataset i.e., NLP, Sentiment Analysis, Text Clustering etc.)"
      ],
      "metadata": {
        "id": "Iwf50b-R2tYG"
      }
    },
    {
      "cell_type": "markdown",
      "source": [
        "#### 1. Expand Contraction"
      ],
      "metadata": {
        "id": "GMQiZwjn3iu7"
      }
    },
    {
      "cell_type": "code",
      "source": [
        "# Expand Contraction"
      ],
      "metadata": {
        "id": "PTouz10C3oNN"
      },
      "execution_count": null,
      "outputs": []
    },
    {
      "cell_type": "markdown",
      "source": [
        "#### 2. Lower Casing"
      ],
      "metadata": {
        "id": "WVIkgGqN3qsr"
      }
    },
    {
      "cell_type": "code",
      "source": [
        "# Lower Casing"
      ],
      "metadata": {
        "id": "88JnJ1jN3w7j"
      },
      "execution_count": null,
      "outputs": []
    },
    {
      "cell_type": "markdown",
      "source": [
        "#### 3. Removing Punctuations"
      ],
      "metadata": {
        "id": "XkPnILGE3zoT"
      }
    },
    {
      "cell_type": "code",
      "source": [
        "# Remove Punctuations"
      ],
      "metadata": {
        "id": "vqbBqNaA33c0"
      },
      "execution_count": null,
      "outputs": []
    },
    {
      "cell_type": "markdown",
      "source": [
        "#### 4. Removing URLs & Removing words and digits contain digits."
      ],
      "metadata": {
        "id": "Hlsf0x5436Go"
      }
    },
    {
      "cell_type": "code",
      "source": [
        "# Remove URLs & Remove words and digits contain digits"
      ],
      "metadata": {
        "id": "2sxKgKxu4Ip3"
      },
      "execution_count": null,
      "outputs": []
    },
    {
      "cell_type": "markdown",
      "source": [
        "#### 5. Removing Stopwords & Removing White spaces"
      ],
      "metadata": {
        "id": "mT9DMSJo4nBL"
      }
    },
    {
      "cell_type": "code",
      "source": [
        "# Remove Stopwords"
      ],
      "metadata": {
        "id": "T2LSJh154s8W"
      },
      "execution_count": null,
      "outputs": []
    },
    {
      "cell_type": "code",
      "source": [
        "# Remove White spaces"
      ],
      "metadata": {
        "id": "EgLJGffy4vm0"
      },
      "execution_count": null,
      "outputs": []
    },
    {
      "cell_type": "markdown",
      "source": [
        "#### 6. Rephrase Text"
      ],
      "metadata": {
        "id": "c49ITxTc407N"
      }
    },
    {
      "cell_type": "code",
      "source": [
        "# Rephrase Text"
      ],
      "metadata": {
        "id": "foqY80Qu48N2"
      },
      "execution_count": null,
      "outputs": []
    },
    {
      "cell_type": "markdown",
      "source": [
        "#### 7. Tokenization"
      ],
      "metadata": {
        "id": "OeJFEK0N496M"
      }
    },
    {
      "cell_type": "code",
      "source": [
        "# Tokenization"
      ],
      "metadata": {
        "id": "ijx1rUOS5CUU"
      },
      "execution_count": null,
      "outputs": []
    },
    {
      "cell_type": "markdown",
      "source": [
        "#### 8. Text Normalization"
      ],
      "metadata": {
        "id": "9ExmJH0g5HBk"
      }
    },
    {
      "cell_type": "code",
      "source": [
        "# Normalizing Text (i.e., Stemming, Lemmatization etc.)"
      ],
      "metadata": {
        "id": "AIJ1a-Zc5PY8"
      },
      "execution_count": null,
      "outputs": []
    },
    {
      "cell_type": "markdown",
      "source": [
        "##### Which text normalization technique have you used and why?"
      ],
      "metadata": {
        "id": "cJNqERVU536h"
      }
    },
    {
      "cell_type": "markdown",
      "source": [
        "Answer Here."
      ],
      "metadata": {
        "id": "Z9jKVxE06BC1"
      }
    },
    {
      "cell_type": "markdown",
      "source": [
        "#### 9. Part of speech tagging"
      ],
      "metadata": {
        "id": "k5UmGsbsOxih"
      }
    },
    {
      "cell_type": "code",
      "source": [
        "# POS Taging"
      ],
      "metadata": {
        "id": "btT3ZJBAO6Ik"
      },
      "execution_count": null,
      "outputs": []
    },
    {
      "cell_type": "markdown",
      "source": [
        "#### 10. Text Vectorization"
      ],
      "metadata": {
        "id": "T0VqWOYE6DLQ"
      }
    },
    {
      "cell_type": "code",
      "source": [
        "# Vectorizing Text"
      ],
      "metadata": {
        "id": "yBRtdhth6JDE"
      },
      "execution_count": null,
      "outputs": []
    },
    {
      "cell_type": "markdown",
      "source": [
        "##### Which text vectorization technique have you used and why?"
      ],
      "metadata": {
        "id": "qBMux9mC6MCf"
      }
    },
    {
      "cell_type": "markdown",
      "source": [
        "Answer Here."
      ],
      "metadata": {
        "id": "su2EnbCh6UKQ"
      }
    },
    {
      "cell_type": "markdown",
      "source": [
        "### 4. Feature Manipulation & Selection"
      ],
      "metadata": {
        "id": "-oLEiFgy-5Pf"
      }
    },
    {
      "cell_type": "markdown",
      "source": [
        "#### 1. Feature Manipulation"
      ],
      "metadata": {
        "id": "C74aWNz2AliB"
      }
    },
    {
      "cell_type": "code",
      "source": [
        "# Manipulate Features to minimize feature correlation and create new features"
      ],
      "metadata": {
        "id": "h1qC4yhBApWC"
      },
      "execution_count": null,
      "outputs": []
    },
    {
      "cell_type": "markdown",
      "source": [
        "#### 2. Feature Selection"
      ],
      "metadata": {
        "id": "2DejudWSA-a0"
      }
    },
    {
      "cell_type": "code",
      "source": [
        "# Select your features wisely to avoid overfitting"
      ],
      "metadata": {
        "id": "YLhe8UmaBCEE"
      },
      "execution_count": null,
      "outputs": []
    },
    {
      "cell_type": "markdown",
      "source": [
        "##### What all feature selection methods have you used  and why?"
      ],
      "metadata": {
        "id": "pEMng2IbBLp7"
      }
    },
    {
      "cell_type": "markdown",
      "source": [
        "Answer Here."
      ],
      "metadata": {
        "id": "rb2Lh6Z8BgGs"
      }
    },
    {
      "cell_type": "markdown",
      "source": [
        "##### Which all features you found important and why?"
      ],
      "metadata": {
        "id": "rAdphbQ9Bhjc"
      }
    },
    {
      "cell_type": "markdown",
      "source": [
        "Answer Here."
      ],
      "metadata": {
        "id": "fGgaEstsBnaf"
      }
    },
    {
      "cell_type": "markdown",
      "source": [
        "### 5. Data Transformation"
      ],
      "metadata": {
        "id": "TNVZ9zx19K6k"
      }
    },
    {
      "cell_type": "markdown",
      "source": [
        "#### Do you think that your data needs to be transformed? If yes, which transformation have you used. Explain Why?"
      ],
      "metadata": {
        "id": "nqoHp30x9hH9"
      }
    },
    {
      "cell_type": "code",
      "source": [
        "# Transform Your data"
      ],
      "metadata": {
        "id": "I6quWQ1T9rtH"
      },
      "execution_count": null,
      "outputs": []
    },
    {
      "cell_type": "markdown",
      "source": [
        "### 6. Data Scaling"
      ],
      "metadata": {
        "id": "rMDnDkt2B6du"
      }
    },
    {
      "cell_type": "code",
      "source": [
        "# Scaling your data"
      ],
      "metadata": {
        "id": "dL9LWpySC6x_"
      },
      "execution_count": null,
      "outputs": []
    },
    {
      "cell_type": "markdown",
      "source": [
        "##### Which method have you used to scale you data and why?"
      ],
      "metadata": {
        "id": "yiiVWRdJDDil"
      }
    },
    {
      "cell_type": "markdown",
      "source": [
        "### 7. Dimesionality Reduction"
      ],
      "metadata": {
        "id": "1UUpS68QDMuG"
      }
    },
    {
      "cell_type": "markdown",
      "source": [
        "##### Do you think that dimensionality reduction is needed? Explain Why?"
      ],
      "metadata": {
        "id": "kexQrXU-DjzY"
      }
    },
    {
      "cell_type": "markdown",
      "source": [
        "Answer Here."
      ],
      "metadata": {
        "id": "GGRlBsSGDtTQ"
      }
    },
    {
      "cell_type": "code",
      "source": [
        "# DImensionality Reduction (If needed)"
      ],
      "metadata": {
        "id": "kQfvxBBHDvCa"
      },
      "execution_count": null,
      "outputs": []
    },
    {
      "cell_type": "markdown",
      "source": [
        "##### Which dimensionality reduction technique have you used and why? (If dimensionality reduction done on dataset.)"
      ],
      "metadata": {
        "id": "T5CmagL3EC8N"
      }
    },
    {
      "cell_type": "markdown",
      "source": [
        "Answer Here."
      ],
      "metadata": {
        "id": "ZKr75IDuEM7t"
      }
    },
    {
      "cell_type": "markdown",
      "source": [
        "### 8. Data Splitting"
      ],
      "metadata": {
        "id": "BhH2vgX9EjGr"
      }
    },
    {
      "cell_type": "code",
      "source": [
        "# Split your data to train and test. Choose Splitting ratio wisely."
      ],
      "metadata": {
        "id": "0CTyd2UwEyNM"
      },
      "execution_count": null,
      "outputs": []
    },
    {
      "cell_type": "markdown",
      "source": [
        "##### What data splitting ratio have you used and why? "
      ],
      "metadata": {
        "id": "qjKvONjwE8ra"
      }
    },
    {
      "cell_type": "markdown",
      "source": [
        "Answer Here."
      ],
      "metadata": {
        "id": "Y2lJ8cobFDb_"
      }
    },
    {
      "cell_type": "markdown",
      "source": [
        "### 9. Handling Imbalanced Dataset"
      ],
      "metadata": {
        "id": "P1XJ9OREExlT"
      }
    },
    {
      "cell_type": "markdown",
      "source": [
        "##### Do you think the dataset is imbalanced? Explain Why."
      ],
      "metadata": {
        "id": "VFOzZv6IFROw"
      }
    },
    {
      "cell_type": "markdown",
      "source": [
        "Answer Here."
      ],
      "metadata": {
        "id": "GeKDIv7pFgcC"
      }
    },
    {
      "cell_type": "code",
      "source": [
        "# Handling Imbalanced Dataset (If needed)"
      ],
      "metadata": {
        "id": "nQsRhhZLFiDs"
      },
      "execution_count": null,
      "outputs": []
    },
    {
      "cell_type": "markdown",
      "source": [
        "##### What technique did you use to handle the imbalance dataset and why? (If needed to be balanced)"
      ],
      "metadata": {
        "id": "TIqpNgepFxVj"
      }
    },
    {
      "cell_type": "markdown",
      "source": [
        "Answer Here."
      ],
      "metadata": {
        "id": "qbet1HwdGDTz"
      }
    },
    {
      "cell_type": "markdown",
      "source": [
        "## ***7. ML Model Implementation***"
      ],
      "metadata": {
        "id": "VfCC591jGiD4"
      }
    },
    {
      "cell_type": "markdown",
      "source": [
        "### ML Model - 1"
      ],
      "metadata": {
        "id": "OB4l2ZhMeS1U"
      }
    },
    {
      "cell_type": "code",
      "source": [
        "# ML Model - 1 Implementation\n",
        "\n",
        "# Fit the Algorithm\n",
        "\n",
        "# Predict on the model"
      ],
      "metadata": {
        "id": "7ebyywQieS1U"
      },
      "execution_count": null,
      "outputs": []
    },
    {
      "cell_type": "markdown",
      "source": [
        "#### 1. Explain the ML Model used and it's performance using Evaluation metric Score Chart."
      ],
      "metadata": {
        "id": "ArJBuiUVfxKd"
      }
    },
    {
      "cell_type": "code",
      "source": [
        "# Visualizing evaluation Metric Score chart"
      ],
      "metadata": {
        "id": "rqD5ZohzfxKe"
      },
      "execution_count": null,
      "outputs": []
    },
    {
      "cell_type": "markdown",
      "source": [
        "#### 2. Cross- Validation & Hyperparameter Tuning"
      ],
      "metadata": {
        "id": "4qY1EAkEfxKe"
      }
    },
    {
      "cell_type": "code",
      "source": [
        "# ML Model - 1 Implementation with hyperparameter optimization techniques (i.e., GridSearch CV, RandomSearch CV, Bayesian Optimization etc.)\n",
        "\n",
        "# Fit the Algorithm\n",
        "\n",
        "# Predict on the model"
      ],
      "metadata": {
        "id": "Dy61ujd6fxKe"
      },
      "execution_count": null,
      "outputs": []
    },
    {
      "cell_type": "markdown",
      "source": [
        "##### Which hyperparameter optimization technique have you used and why?"
      ],
      "metadata": {
        "id": "PiV4Ypx8fxKe"
      }
    },
    {
      "cell_type": "markdown",
      "source": [
        "Answer Here."
      ],
      "metadata": {
        "id": "negyGRa7fxKf"
      }
    },
    {
      "cell_type": "markdown",
      "source": [
        "##### Have you seen any improvement? Note down the improvement with updates Evaluation metric Score Chart."
      ],
      "metadata": {
        "id": "TfvqoZmBfxKf"
      }
    },
    {
      "cell_type": "markdown",
      "source": [
        "Answer Here."
      ],
      "metadata": {
        "id": "OaLui8CcfxKf"
      }
    },
    {
      "cell_type": "markdown",
      "source": [
        "### ML Model - 2"
      ],
      "metadata": {
        "id": "dJ2tPlVmpsJ0"
      }
    },
    {
      "cell_type": "markdown",
      "source": [
        "#### 1. Explain the ML Model used and it's performance using Evaluation metric Score Chart."
      ],
      "metadata": {
        "id": "JWYfwnehpsJ1"
      }
    },
    {
      "cell_type": "code",
      "source": [
        "# Visualizing evaluation Metric Score chart"
      ],
      "metadata": {
        "id": "yEl-hgQWpsJ1"
      },
      "execution_count": null,
      "outputs": []
    },
    {
      "cell_type": "markdown",
      "source": [
        "#### 2. Cross- Validation & Hyperparameter Tuning"
      ],
      "metadata": {
        "id": "-jK_YjpMpsJ2"
      }
    },
    {
      "cell_type": "code",
      "source": [
        "# ML Model - 1 Implementation with hyperparameter optimization techniques (i.e., GridSearch CV, RandomSearch CV, Bayesian Optimization etc.)\n",
        "\n",
        "# Fit the Algorithm\n",
        "\n",
        "# Predict on the model"
      ],
      "metadata": {
        "id": "Dn0EOfS6psJ2"
      },
      "execution_count": null,
      "outputs": []
    },
    {
      "cell_type": "markdown",
      "source": [
        "##### Which hyperparameter optimization technique have you used and why?"
      ],
      "metadata": {
        "id": "HAih1iBOpsJ2"
      }
    },
    {
      "cell_type": "markdown",
      "source": [
        "Answer Here."
      ],
      "metadata": {
        "id": "9kBgjYcdpsJ2"
      }
    },
    {
      "cell_type": "markdown",
      "source": [
        "##### Have you seen any improvement? Note down the improvement with updates Evaluation metric Score Chart."
      ],
      "metadata": {
        "id": "zVGeBEFhpsJ2"
      }
    },
    {
      "cell_type": "markdown",
      "source": [
        "Answer Here."
      ],
      "metadata": {
        "id": "74yRdG6UpsJ3"
      }
    },
    {
      "cell_type": "markdown",
      "source": [
        "#### 3. Explain each evaluation metric's indication towards business and the business impact pf the ML model used."
      ],
      "metadata": {
        "id": "bmKjuQ-FpsJ3"
      }
    },
    {
      "cell_type": "markdown",
      "source": [
        "Answer Here."
      ],
      "metadata": {
        "id": "BDKtOrBQpsJ3"
      }
    },
    {
      "cell_type": "markdown",
      "source": [
        "### ML Model - 3"
      ],
      "metadata": {
        "id": "Fze-IPXLpx6K"
      }
    },
    {
      "cell_type": "code",
      "source": [
        "# ML Model - 3 Implementation\n",
        "\n",
        "# Fit the Algorithm\n",
        "\n",
        "# Predict on the model"
      ],
      "metadata": {
        "id": "FFrSXAtrpx6M"
      },
      "execution_count": null,
      "outputs": []
    },
    {
      "cell_type": "markdown",
      "source": [
        "#### 1. Explain the ML Model used and it's performance using Evaluation metric Score Chart."
      ],
      "metadata": {
        "id": "7AN1z2sKpx6M"
      }
    },
    {
      "cell_type": "code",
      "source": [
        "# Visualizing evaluation Metric Score chart"
      ],
      "metadata": {
        "id": "xIY4lxxGpx6M"
      },
      "execution_count": null,
      "outputs": []
    },
    {
      "cell_type": "markdown",
      "source": [
        "#### 2. Cross- Validation & Hyperparameter Tuning"
      ],
      "metadata": {
        "id": "9PIHJqyupx6M"
      }
    },
    {
      "cell_type": "code",
      "source": [
        "# ML Model - 3 Implementation with hyperparameter optimization techniques (i.e., GridSearch CV, RandomSearch CV, Bayesian Optimization etc.)\n",
        "\n",
        "# Fit the Algorithm\n",
        "\n",
        "# Predict on the model"
      ],
      "metadata": {
        "id": "eSVXuaSKpx6M"
      },
      "execution_count": null,
      "outputs": []
    },
    {
      "cell_type": "markdown",
      "source": [
        "##### Which hyperparameter optimization technique have you used and why?"
      ],
      "metadata": {
        "id": "_-qAgymDpx6N"
      }
    },
    {
      "cell_type": "markdown",
      "source": [
        "Answer Here."
      ],
      "metadata": {
        "id": "lQMffxkwpx6N"
      }
    },
    {
      "cell_type": "markdown",
      "source": [
        "##### Have you seen any improvement? Note down the improvement with updates Evaluation metric Score Chart."
      ],
      "metadata": {
        "id": "Z-hykwinpx6N"
      }
    },
    {
      "cell_type": "markdown",
      "source": [
        "Answer Here."
      ],
      "metadata": {
        "id": "MzVzZC6opx6N"
      }
    },
    {
      "cell_type": "markdown",
      "source": [
        "### 1. Which Evaluation metrics did you consider for a positive business impact and why?"
      ],
      "metadata": {
        "id": "h_CCil-SKHpo"
      }
    },
    {
      "cell_type": "markdown",
      "source": [
        "Answer Here."
      ],
      "metadata": {
        "id": "jHVz9hHDKFms"
      }
    },
    {
      "cell_type": "markdown",
      "source": [
        "### 2. Which ML model did you choose from the above created models as your final prediction model and why?"
      ],
      "metadata": {
        "id": "cBFFvTBNJzUa"
      }
    },
    {
      "cell_type": "markdown",
      "source": [
        "Answer Here."
      ],
      "metadata": {
        "id": "6ksF5Q1LKTVm"
      }
    },
    {
      "cell_type": "markdown",
      "source": [
        "### 3. Explain the model which you have used and the feature importance using any model explainability tool?"
      ],
      "metadata": {
        "id": "HvGl1hHyA_VK"
      }
    },
    {
      "cell_type": "markdown",
      "source": [
        "Answer Here."
      ],
      "metadata": {
        "id": "YnvVTiIxBL-C"
      }
    },
    {
      "cell_type": "markdown",
      "source": [
        "## ***8.*** ***Future Work (Optional)***"
      ],
      "metadata": {
        "id": "EyNgTHvd2WFk"
      }
    },
    {
      "cell_type": "markdown",
      "source": [
        "### 1. Save the best performing ml model in a pickle file or joblib file format for deployment process.\n"
      ],
      "metadata": {
        "id": "KH5McJBi2d8v"
      }
    },
    {
      "cell_type": "code",
      "source": [
        "# Save the File"
      ],
      "metadata": {
        "id": "bQIANRl32f4J"
      },
      "execution_count": null,
      "outputs": []
    },
    {
      "cell_type": "markdown",
      "source": [
        "### 2. Again Load the saved model file and try to predict unseen data for a sanity check.\n"
      ],
      "metadata": {
        "id": "iW_Lq9qf2h6X"
      }
    },
    {
      "cell_type": "code",
      "source": [
        "# Load the File and predict unseen data."
      ],
      "metadata": {
        "id": "oEXk9ydD2nVC"
      },
      "execution_count": null,
      "outputs": []
    },
    {
      "cell_type": "markdown",
      "source": [
        "### ***Congrats! Your model is successfully created and ready for deployment on a live server for a real user interaction !!!***"
      ],
      "metadata": {
        "id": "-Kee-DAl2viO"
      }
    },
    {
      "cell_type": "markdown",
      "source": [
        "# **Conclusion**"
      ],
      "metadata": {
        "id": "gCX9965dhzqZ"
      }
    },
    {
      "cell_type": "markdown",
      "source": [
        "Write the conclusion here."
      ],
      "metadata": {
        "id": "Fjb1IsQkh3yE"
      }
    },
    {
      "cell_type": "markdown",
      "source": [
        "### ***Hurrah! You have successfully completed your Machine Learning Capstone Project !!!***"
      ],
      "metadata": {
        "id": "gIfDvo9L0UH2"
      }
    }
  ]
}